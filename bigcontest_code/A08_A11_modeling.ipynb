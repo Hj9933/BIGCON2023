{
  "cells": [
    {
      "cell_type": "markdown",
      "metadata": {
        "id": "hbPhjTP2QjJe"
      },
      "source": [
        "### 초기 시작"
      ]
    },
    {
      "cell_type": "code",
      "execution_count": null,
      "metadata": {
        "id": "7b3c7e88"
      },
      "outputs": [],
      "source": [
        "import pandas as pd\n",
        "import numpy as np\n",
        "import matplotlib.pyplot as plt\n",
        "import seaborn as sns\n",
        "import statsmodels.api as sm\n",
        "\n",
        "from sklearn.preprocessing import StandardScaler\n",
        "\n",
        "from sklearn.ensemble import RandomForestClassifier\n",
        "from sklearn.ensemble import RandomForestRegressor\n",
        "from sklearn.ensemble import ExtraTreesClassifier\n",
        "from sklearn.ensemble import ExtraTreesRegressor\n",
        "from sklearn.tree import DecisionTreeClassifier\n",
        "from xgboost.sklearn import XGBClassifier, XGBRegressor\n",
        "\n",
        "from sklearn.model_selection import GridSearchCV\n",
        "\n",
        "from sklearn.metrics import accuracy_score\n",
        "from sklearn.metrics import precision_score, recall_score, f1_score\n",
        "from sklearn.metrics import mean_squared_error\n",
        "\n",
        "import warnings\n",
        "warnings.filterwarnings('ignore')"
      ]
    },
    {
      "cell_type": "code",
      "execution_count": null,
      "metadata": {
        "colab": {
          "base_uri": "https://localhost:8080/"
        },
        "id": "65268482",
        "outputId": "dbdfd613-5aed-4bb4-9ba6-55b5c3636d22"
      },
      "outputs": [
        {
          "name": "stdout",
          "output_type": "stream",
          "text": [
            "c:\\Users\\kustat\\Desktop\\홍스프\n",
            "c:\\Users\\kustat\\Desktop\\홍스프\n"
          ]
        }
      ],
      "source": [
        "import os\n",
        "\n",
        "print(os.getcwd())\n",
        "os.chdir('c:/Users/kustat/Desktop/홍스프/')\n",
        "print(os.getcwd())"
      ]
    },
    {
      "cell_type": "code",
      "execution_count": null,
      "metadata": {
        "id": "f91a6bc6"
      },
      "outputs": [],
      "source": [
        "# 데이터 불러오기\n",
        "data = pd.read_csv(\"raw.csv\", encoding=\"cp949\")"
      ]
    },
    {
      "cell_type": "code",
      "execution_count": null,
      "metadata": {
        "id": "376c39d8"
      },
      "outputs": [],
      "source": [
        "data['INDUSTRY_CD_label'] = data['INDUSTRY_CD'].str[1:].astype('int')"
      ]
    },
    {
      "cell_type": "code",
      "execution_count": null,
      "metadata": {
        "id": "57a739ec"
      },
      "outputs": [],
      "source": [
        "train = data[(data['train']==1)&(data['DATA_CRTR_YM']<=202210)].reset_index()\n",
        "valid = data[(data['train']==1)&(data['DATA_CRTR_YM']<=202212)&(data['DATA_CRTR_YM']>=202211)].reset_index()\n",
        "test = data[data['train']==0].reset_index()"
      ]
    },
    {
      "cell_type": "markdown",
      "metadata": {
        "id": "e6cf0901"
      },
      "source": [
        "### 업종별로 나눈 데이터 생성하기"
      ]
    },
    {
      "cell_type": "code",
      "execution_count": null,
      "metadata": {
        "id": "22cef258"
      },
      "outputs": [],
      "source": [
        "train8 = train[train['INDUSTRY_CD_label'] == 8]\n",
        "train9 = train[train['INDUSTRY_CD_label'] == 9]\n",
        "train10 = train[train['INDUSTRY_CD_label'] == 10]\n",
        "train11 = train[train['INDUSTRY_CD_label'] == 11]\n",
        "\n",
        "valid8 = valid[valid['INDUSTRY_CD_label'] == 8]\n",
        "valid9 = valid[valid['INDUSTRY_CD_label'] == 9]\n",
        "valid10 = valid[valid['INDUSTRY_CD_label'] == 10]\n",
        "valid11 = valid[valid['INDUSTRY_CD_label'] == 11]\n",
        "\n",
        "test8 = test[test['INDUSTRY_CD_label'] == 8]\n",
        "test9 = test[test['INDUSTRY_CD_label'] == 9]\n",
        "test10 = test[test['INDUSTRY_CD_label'] == 10]\n",
        "test11 = test[test['INDUSTRY_CD_label'] == 11]"
      ]
    },
    {
      "cell_type": "code",
      "execution_count": null,
      "metadata": {
        "id": "6738867e"
      },
      "outputs": [],
      "source": [
        "columns = ['전체점포수','프랜차이즈점포수', '일반점포수', '길단위유동인구', '주거인구', '직장인구', '개업수', '폐업수', '개업률', '폐업률',\n",
        "           '전체 임대료','1층 임대료', '1층 외 임대료', '생활물가지수', '부동산거래대비유동인구', '공실률대비매매가임대료', '젠트리피케이션',\n",
        "           '지하철개수', '스타벅스개수', '65세이상', '65세이상_남', '65세이상_여', '출근시간_승차수', '출근시간_하차수', '주말_하차수']"
      ]
    },
    {
      "cell_type": "code",
      "execution_count": null,
      "metadata": {
        "id": "584605a0"
      },
      "outputs": [],
      "source": [
        "X_train8 = train8[columns]\n",
        "X_train9 = train9[columns]\n",
        "X_train10 = train10[columns]\n",
        "X_train11 = train11[columns]\n",
        "\n",
        "y_train8 = train8['SLS_GRD']\n",
        "y_train9 = train9['SLS_GRD']\n",
        "y_train10 = train10['SLS_GRD']\n",
        "y_train11 = train11['SLS_GRD']"
      ]
    },
    {
      "cell_type": "code",
      "execution_count": null,
      "metadata": {
        "id": "6d9017ae"
      },
      "outputs": [],
      "source": [
        "X_valid8 = valid8[columns]\n",
        "X_valid9 = valid9[columns]\n",
        "X_valid10 = valid10[columns]\n",
        "X_valid11 = valid11[columns]\n",
        "\n",
        "y_valid8 = valid8['SLS_GRD']\n",
        "y_valid9 = valid9['SLS_GRD']\n",
        "y_valid10 = valid10['SLS_GRD']\n",
        "y_valid11 = valid11['SLS_GRD']"
      ]
    },
    {
      "cell_type": "code",
      "execution_count": null,
      "metadata": {
        "id": "9f949143"
      },
      "outputs": [],
      "source": [
        "X_test8 = test8[columns]\n",
        "X_test9 = test9[columns]\n",
        "X_test10 = test10[columns]\n",
        "X_test11 = test11[columns]"
      ]
    },
    {
      "cell_type": "markdown",
      "source": [
        "스케일링"
      ],
      "metadata": {
        "id": "WTOOuaatukN3"
      }
    },
    {
      "cell_type": "code",
      "execution_count": null,
      "metadata": {
        "id": "286ec4e9"
      },
      "outputs": [],
      "source": [
        "features_to_scale = X_train8.columns\n",
        "scaler8 = StandardScaler()\n",
        "scaler8.fit(X_train8[features_to_scale])\n",
        "X_train8[features_to_scale] = scaler8.transform(X_train8[features_to_scale])\n",
        "X_valid8[features_to_scale] = scaler8.transform(X_valid8[features_to_scale])\n",
        "X_test8[features_to_scale] = scaler8.transform(X_test8[features_to_scale])"
      ]
    },
    {
      "cell_type": "code",
      "execution_count": null,
      "metadata": {
        "id": "bca52cfe"
      },
      "outputs": [],
      "source": [
        "scaler9 = StandardScaler()\n",
        "scaler9.fit(X_train9[features_to_scale])\n",
        "X_train9[features_to_scale] = scaler9.transform(X_train9[features_to_scale])\n",
        "X_valid9[features_to_scale] = scaler9.transform(X_valid9[features_to_scale])\n",
        "X_test9[features_to_scale] = scaler9.transform(X_test9[features_to_scale])"
      ]
    },
    {
      "cell_type": "code",
      "execution_count": null,
      "metadata": {
        "id": "c49c1c7c"
      },
      "outputs": [],
      "source": [
        "scaler10 = StandardScaler()\n",
        "scaler10.fit(X_train10[features_to_scale])\n",
        "X_train10[features_to_scale] = scaler10.transform(X_train10[features_to_scale])\n",
        "X_valid10[features_to_scale] = scaler10.transform(X_valid10[features_to_scale])\n",
        "X_test10[features_to_scale] = scaler10.transform(X_test10[features_to_scale])"
      ]
    },
    {
      "cell_type": "code",
      "execution_count": null,
      "metadata": {
        "id": "5fb2ecb3"
      },
      "outputs": [],
      "source": [
        "scaler11 = StandardScaler()\n",
        "scaler11.fit(X_train11[features_to_scale])\n",
        "X_train11[features_to_scale] = scaler11.transform(X_train11[features_to_scale])\n",
        "X_valid11[features_to_scale] = scaler11.transform(X_valid11[features_to_scale])\n",
        "X_test11[features_to_scale] = scaler11.transform(X_test11[features_to_scale])"
      ]
    },
    {
      "cell_type": "code",
      "execution_count": null,
      "metadata": {
        "id": "9683a48a"
      },
      "outputs": [],
      "source": [
        "X_train8['대학교여부'] = train8['대학교여부']\n",
        "X_valid8['대학교여부'] = valid8['대학교여부']\n",
        "X_test8['대학교여부'] = test8['대학교여부']\n",
        "\n",
        "X_train9['대학교여부'] = train9['대학교여부']\n",
        "X_valid9['대학교여부'] = valid9['대학교여부']\n",
        "X_test9['대학교여부'] = test9['대학교여부']\n",
        "\n",
        "X_train10['대학교여부'] = train10['대학교여부']\n",
        "X_valid10['대학교여부'] = valid10['대학교여부']\n",
        "X_test10['대학교여부'] = test10['대학교여부']\n",
        "\n",
        "X_train11['대학교여부'] = train11['대학교여부']\n",
        "X_valid11['대학교여부'] = valid11['대학교여부']\n",
        "X_test11['대학교여부'] = test11['대학교여부']"
      ]
    },
    {
      "cell_type": "code",
      "execution_count": null,
      "metadata": {
        "id": "pOa04y1x6Hp6"
      },
      "outputs": [],
      "source": [
        "train_df8 = pd.concat([X_train8, y_train8], axis = 1)\n",
        "valid_df8 = pd.concat([X_valid8, y_valid8], axis = 1)\n",
        "\n",
        "train_df9 = pd.concat([X_train9, y_train9], axis = 1)\n",
        "valid_df9 = pd.concat([X_valid9, y_valid9], axis = 1)\n",
        "\n",
        "train_df10 = pd.concat([X_train10, y_train10], axis = 1)\n",
        "valid_df10 = pd.concat([X_valid10, y_valid10], axis = 1)\n",
        "\n",
        "train_df11 = pd.concat([X_train11, y_train11], axis = 1)\n",
        "valid_df11 = pd.concat([X_valid11, y_valid11], axis = 1)"
      ]
    },
    {
      "cell_type": "markdown",
      "source": [
        "### [A08] regression"
      ],
      "metadata": {
        "id": "BySLMrVpur2Y"
      }
    },
    {
      "cell_type": "markdown",
      "source": [
        "null model"
      ],
      "metadata": {
        "id": "Rjf7hIZWv3PF"
      }
    },
    {
      "cell_type": "code",
      "execution_count": null,
      "metadata": {
        "colab": {
          "base_uri": "https://localhost:8080/"
        },
        "id": "HApBJ9NftrMv",
        "outputId": "29b54249-66b2-4bb1-988f-c5ef9f597d25"
      },
      "outputs": [
        {
          "name": "stdout",
          "output_type": "stream",
          "text": [
            "MSE of train8_reg: 0.009391371012394054\n",
            "MSE of valid8_reg: 0.39438085327783556\n"
          ]
        }
      ],
      "source": [
        "etr8_reg = ExtraTreesRegressor(random_state=0)\n",
        "etr8_reg.fit(X_train8, y_train8)\n",
        "pred_train8 = etr8_reg.predict(X_train8)\n",
        "pred_val8 = etr8_reg.predict(X_valid8)\n",
        "\n",
        "pred_train8 = round(pd.DataFrame(pred_train8))\n",
        "pred_val8 = round(pd.DataFrame(pred_val8))\n",
        "\n",
        "print('MSE of train8_reg:', mean_squared_error(y_train8, pred_train8))\n",
        "print('MSE of valid8_reg:', mean_squared_error(y_valid8, pred_val8))"
      ]
    },
    {
      "cell_type": "code",
      "execution_count": null,
      "metadata": {
        "colab": {
          "base_uri": "https://localhost:8080/"
        },
        "id": "OnZ268UTI0nx",
        "outputId": "f677a87f-daec-4e29-87d1-43ca7de1654e"
      },
      "outputs": [
        {
          "name": "stdout",
          "output_type": "stream",
          "text": [
            "일반점포수 전체점포수 0.987050144972155\n",
            "개업수 일반점포수 0.9107169486928015\n",
            "1층 임대료 전체 임대료 0.928159570436962\n",
            "1층 외 임대료 전체 임대료 0.9072671344214377\n",
            "65세이상_남 65세이상 0.9930597624820283\n",
            "65세이상_여 65세이상 0.9957559145027765\n",
            "65세이상_여 65세이상_남 0.978020999390672\n"
          ]
        }
      ],
      "source": [
        "#상관계수 확인\n",
        "cols = X_train8.columns\n",
        "corr8 = X_train8.corr()\n",
        "for i in range(len(cols)) :\n",
        "  for j in range(len(cols)) :\n",
        "    if i > j and corr8.iloc[i, j] > 0.9 :\n",
        "      print(cols[i], cols[j], corr8.iloc[i, j])"
      ]
    },
    {
      "cell_type": "code",
      "execution_count": null,
      "metadata": {
        "id": "KNa-AKbquSNG"
      },
      "outputs": [],
      "source": [
        "import matplotlib.pyplot as plt\n",
        "from matplotlib import font_manager, rc\n",
        "plt.rcParams['axes.unicode_minus'] = False\n",
        "path = 'C:/Windows/Fonts/H2GTRM.TTF'\n",
        "font_name = font_manager.FontProperties(fname=path).get_name()\n",
        "rc('font', family=font_name)"
      ]
    },
    {
      "cell_type": "code",
      "execution_count": null,
      "metadata": {
        "colab": {
          "base_uri": "https://localhost:8080/",
          "height": 502
        },
        "id": "Fs7gw1vfI0rw",
        "outputId": "fa648d3c-ed29-4311-8b17-4c61109ff22a"
      },
      "outputs": [
        {
          "data": {
            "image/png": "[encoded data removed]",
            "text/plain": [
              "<Figure size 800x600 with 1 Axes>"
            ]
          },
          "metadata": {},
          "output_type": "display_data"
        }
      ],
      "source": [
        "#변수 중요도 확인\n",
        "ser8 = pd.Series(etr8_reg.feature_importances_, index=X_train8.columns)\n",
        "ser8.sort_values(inplace=True)\n",
        "\n",
        "plt.figure(figsize=(8,6))\n",
        "plt.title('Feature importance')\n",
        "sns.barplot(x = ser8, y = ser8.index)\n",
        "plt.show()\n"
      ]
    },
    {
      "cell_type": "code",
      "execution_count": null,
      "metadata": {
        "id": "dPV1rmTtQnwI"
      },
      "outputs": [],
      "source": [
        "#상관계수 & 중요도 기준으로 변수선택\n",
        "X_train8_1 = X_train8.drop(columns=['일반점포수', '65세이상_남', '65세이상_여'], axis = 1)\n",
        "X_valid8_1 = X_valid8.drop(columns=['일반점포수', '65세이상_남', '65세이상_여'], axis = 1)\n",
        "X_test8_1 = X_test8.drop(columns=['일반점포수', '65세이상_남', '65세이상_여'], axis = 1)"
      ]
    },
    {
      "cell_type": "markdown",
      "source": [
        "변수 선택 후 model"
      ],
      "metadata": {
        "id": "Lg7NtyCYv6P5"
      }
    },
    {
      "cell_type": "code",
      "execution_count": null,
      "metadata": {
        "colab": {
          "base_uri": "https://localhost:8080/"
        },
        "id": "5J1yh5ODQnzj",
        "outputId": "6255d81c-acf4-4dcf-a477-8d5fedc3e57c"
      },
      "outputs": [
        {
          "name": "stdout",
          "output_type": "stream",
          "text": [
            "MSE of train8_1_reg: 0.009391371012394054\n",
            "MSE of valid8_1_reg: 0.39835398732381044\n"
          ]
        }
      ],
      "source": [
        "etr8_1_reg = ExtraTreesRegressor(random_state=0)\n",
        "etr8_1_reg.fit(X_train8_1, y_train8)\n",
        "pred_train8_1 = etr8_1_reg.predict(X_train8_1)\n",
        "pred_val8_1 = etr8_1_reg.predict(X_valid8_1)\n",
        "\n",
        "pred_train8_1 = round(pd.DataFrame(pred_train8_1))\n",
        "pred_val8_1 = round(pd.DataFrame(pred_val8_1))\n",
        "\n",
        "print('MSE of train8_1_reg:', mean_squared_error(y_train8, pred_train8_1))\n",
        "print('MSE of valid8_1_reg:', mean_squared_error(y_valid8, pred_val8_1))"
      ]
    },
    {
      "cell_type": "markdown",
      "metadata": {
        "id": "SB3pVYCh-Tw1"
      },
      "source": [
        "### [A09] Regression"
      ]
    },
    {
      "cell_type": "code",
      "execution_count": null,
      "metadata": {
        "colab": {
          "base_uri": "https://localhost:8080/"
        },
        "id": "576rHEh6-Tw3",
        "outputId": "6289a802-d8d8-4bcd-c7cc-634437c7117c"
      },
      "outputs": [
        {
          "name": "stdout",
          "output_type": "stream",
          "text": [
            "Accuracy of train9_reg: 0.9916199849777249\n",
            "Accuracy of valid9_reg: 0.7147195698526003\n",
            "MSE of train9_reg: 0.027867965367965368\n",
            "MSE of valid9_reg: 0.5336927223719676\n"
          ]
        }
      ],
      "source": [
        "etr9_reg = ExtraTreesRegressor(random_state=0)\n",
        "etr9_reg.fit(X_train9, y_train9)\n",
        "pred_train9 = etr9_reg.predict(X_train9)\n",
        "pred_val9 = etr9_reg.predict(X_valid9)\n",
        "\n",
        "pred_train9 = round(pd.DataFrame(pred_train9))\n",
        "pred_val9 = round(pd.DataFrame(pred_val9))\n",
        "\n",
        "print('MSE of train9_reg:', mean_squared_error(y_train9, pred_train9))\n",
        "print('MSE of valid9_reg:', mean_squared_error(y_valid9, pred_val9))"
      ]
    },
    {
      "cell_type": "code",
      "execution_count": null,
      "metadata": {
        "colab": {
          "base_uri": "https://localhost:8080/"
        },
        "id": "_0ontOUveHH6",
        "outputId": "c5f2934a-a1c7-4b46-8ba3-0187c4388db5"
      },
      "outputs": [
        {
          "name": "stdout",
          "output_type": "stream",
          "text": [
            "프랜차이즈점포수 전체점포수 0.9119817148067038\n",
            "일반점포수 전체점포수 0.9892657669743133\n",
            "1층 임대료 전체 임대료 0.9228584147565753\n",
            "65세이상_남 65세이상 0.9915368824277295\n",
            "65세이상_여 65세이상 0.9950036739414526\n",
            "65세이상_여 65세이상_남 0.9736213009910333\n",
            "출근시간_하차수 출근시간_승차수 0.9993674100137823\n",
            "주말_하차수 출근시간_승차수 0.990586478076013\n",
            "주말_하차수 출근시간_하차수 0.9900423834007017\n"
          ]
        }
      ],
      "source": [
        "#상관계수 확인\n",
        "cols = X_train9.columns\n",
        "corr9 = X_train9.corr()\n",
        "for i in range(len(cols)) :\n",
        "  for j in range(len(cols)) :\n",
        "    if i > j and corr9.iloc[i, j] > 0.9 :\n",
        "      print(cols[i], cols[j], corr9.iloc[i, j])"
      ]
    },
    {
      "cell_type": "code",
      "execution_count": null,
      "metadata": {
        "colab": {
          "base_uri": "https://localhost:8080/",
          "height": 502
        },
        "id": "eHK5CkSPeHH7",
        "outputId": "479be836-8ff6-4fec-e233-d9ad621b2d31"
      },
      "outputs": [
        {
          "data": {
            "image/png": "[encoded data removed]",
            "text/plain": [
              "<Figure size 800x600 with 1 Axes>"
            ]
          },
          "metadata": {},
          "output_type": "display_data"
        }
      ],
      "source": [
        "#변수 중요도 확인\n",
        "ser9 = pd.Series(etr9_reg.feature_importances_, index=X_train9.columns)\n",
        "ser9.sort_values(inplace=True)\n",
        "\n",
        "plt.figure(figsize=(8,6))\n",
        "plt.title('Feature importance')\n",
        "sns.barplot(x = ser9, y = ser9.index)\n",
        "plt.show()\n"
      ]
    },
    {
      "cell_type": "code",
      "execution_count": null,
      "metadata": {
        "id": "OEQ32sMeeHH7"
      },
      "outputs": [],
      "source": [
        "#상관계수 & 중요도 기준으로 변수선택\n",
        "X_train9_1 = X_train9.drop(columns=['주말_하차수', '출근시간_승차수', '65세이상_남','65세이상_여', '일반점포수'], axis = 1)\n",
        "X_valid9_1 = X_valid9.drop(columns=['주말_하차수', '출근시간_승차수', '65세이상_남','65세이상_여', '일반점포수'], axis = 1)\n",
        "X_test9_1 = X_test9.drop(columns=['주말_하차수', '출근시간_승차수', '65세이상_남','65세이상_여', '일반점포수'], axis = 1)"
      ]
    },
    {
      "cell_type": "markdown",
      "source": [
        "변수 선택 후 model"
      ],
      "metadata": {
        "id": "1F6bcA_Gwg7l"
      }
    },
    {
      "cell_type": "code",
      "execution_count": null,
      "metadata": {
        "colab": {
          "base_uri": "https://localhost:8080/"
        },
        "id": "lmAcd39reHH7",
        "outputId": "69319533-510f-4b74-a7ae-4feed5f9fd76"
      },
      "outputs": [
        {
          "name": "stdout",
          "output_type": "stream",
          "text": [
            "MSE of train9_1_reg: 0.027867965367965368\n",
            "MSE of valid9_1_reg: 0.5309973045822103\n"
          ]
        }
      ],
      "source": [
        "etr9_1_reg = ExtraTreesRegressor(random_state=0)\n",
        "etr9_1_reg.fit(X_train9_1, y_train9)\n",
        "pred_train9_1 = etr9_1_reg.predict(X_train9_1)\n",
        "pred_val9_1 = etr9_1_reg.predict(X_valid9_1)\n",
        "\n",
        "pred_train9_1 = round(pd.DataFrame(pred_train9_1))\n",
        "pred_val9_1 = round(pd.DataFrame(pred_val9_1))\n",
        "\n",
        "print('MSE of train9_1_reg:', mean_squared_error(y_train9, pred_train9_1))\n",
        "print('MSE of valid9_1_reg:', mean_squared_error(y_valid9, pred_val9_1))"
      ]
    },
    {
      "cell_type": "markdown",
      "metadata": {
        "id": "cnJbF6z-pGRu"
      },
      "source": [
        "parameter tuning"
      ]
    },
    {
      "cell_type": "code",
      "execution_count": null,
      "metadata": {
        "id": "LDcfpUU2dzTK",
        "outputId": "fdb72ee3-3703-4626-c1fc-f68274d38eca"
      },
      "outputs": [
        {
          "name": "stdout",
          "output_type": "stream",
          "text": [
            "최적 하이퍼파라미터: {'max_depth': 30, 'max_features': 'sqrt', 'min_samples_leaf': 1, 'min_samples_split': 2, 'n_estimators': 200}\n",
            "최적 모델의 MSE: 0.4327711872739409\n"
          ]
        }
      ],
      "source": [
        "# ExtraTreesRegressor 모델 생성\n",
        "reg = ExtraTreesRegressor(random_state=0)\n",
        "\n",
        "# 탐색할 하이퍼파라미터 그리드 정의\n",
        "param_grid = {\n",
        "    'n_estimators': [100, 200, 300],  # 트리 개수\n",
        "    'max_depth': [None, 10, 20, 30],  # 트리의 최대 깊이\n",
        "    'min_samples_split': [2, 5, 10],  # 노드 분할 최소 샘플 수\n",
        "    'min_samples_leaf': [1, 2, 4],  # 리프 노드 최소 샘플 수\n",
        "    'max_features': ['auto', 'sqrt', 'log2'],  # 최대 특성 개수 설정\n",
        "}\n",
        "\n",
        "# Grid Search 객체 생성\n",
        "grid_search = GridSearchCV(estimator=reg, param_grid=param_grid, scoring='neg_mean_squared_error', cv=5)\n",
        "\n",
        "# Grid Search 수행\n",
        "grid_search.fit(X_train9_1, y_train9)\n",
        "\n",
        "# 최적의 하이퍼파라미터 출력\n",
        "print(\"최적 하이퍼파라미터:\", grid_search.best_params_)\n",
        "\n",
        "# 최적 모델의 성능 출력\n",
        "print(\"최적 모델의 MSE:\", -grid_search.best_score_)  # 음수 MSE 값을 양수로 변환하여 출력"
      ]
    },
    {
      "cell_type": "markdown",
      "metadata": {
        "id": "_eBcfbp9Amy2"
      },
      "source": [
        "### [A10] Regression"
      ]
    },
    {
      "cell_type": "code",
      "execution_count": null,
      "metadata": {
        "colab": {
          "base_uri": "https://localhost:8080/"
        },
        "id": "0M7EaPiEAmy5",
        "outputId": "f08e4679-820f-411b-a687-3bde336fc3f8"
      },
      "outputs": [
        {
          "name": "stdout",
          "output_type": "stream",
          "text": [
            "MSE of train10_reg: 0.048221532585342564\n",
            "MSE of valid10_reg: 0.5005524861878453\n"
          ]
        }
      ],
      "source": [
        "rf10_reg = RandomForestRegressor(random_state=0)\n",
        "rf10_reg.fit(X_train10, y_train10)\n",
        "pred_train10 = rf10_reg.predict(X_train10)\n",
        "pred_val10 = rf10_reg.predict(X_valid10)\n",
        "\n",
        "pred_train10 = round(pd.DataFrame(pred_train10))\n",
        "pred_val10 = round(pd.DataFrame(pred_val10))\n",
        "\n",
        "print('MSE of train10_reg:', mean_squared_error(y_train10, pred_train10))\n",
        "print('MSE of valid10_reg:', mean_squared_error(y_valid10, pred_val10))"
      ]
    },
    {
      "cell_type": "code",
      "execution_count": null,
      "metadata": {
        "colab": {
          "base_uri": "https://localhost:8080/"
        },
        "id": "wFRZ_NQPhQc9",
        "outputId": "97d94aaf-7f8b-4aea-f999-bfe04a1999fe"
      },
      "outputs": [
        {
          "name": "stdout",
          "output_type": "stream",
          "text": [
            "프랜차이즈점포수 전체점포수 0.9419927808513194\n",
            "일반점포수 전체점포수 0.9981304790086308\n",
            "일반점포수 프랜차이즈점포수 0.9202376086009763\n",
            "개업수 전체점포수 0.9261016801980197\n",
            "개업수 일반점포수 0.9295246702037379\n",
            "폐업수 전체점포수 0.9145005279580005\n",
            "폐업수 일반점포수 0.9146256409419151\n",
            "폐업수 개업수 0.9267723204572912\n",
            "1층 임대료 전체 임대료 0.9254024187990108\n",
            "65세이상_남 65세이상 0.9927896686133755\n",
            "65세이상_여 65세이상 0.995501156549086\n",
            "65세이상_여 65세이상_남 0.9769657101980755\n",
            "출근시간_하차수 출근시간_승차수 0.9996153069959401\n",
            "주말_하차수 출근시간_승차수 0.9924309613179573\n",
            "주말_하차수 출근시간_하차수 0.9912234826425981\n"
          ]
        }
      ],
      "source": [
        "#상관계수 확인\n",
        "cols = X_train10.columns\n",
        "corr10 = X_train10.corr()\n",
        "for i in range(len(cols)) :\n",
        "  for j in range(len(cols)) :\n",
        "    if i > j and corr10.iloc[i, j] > 0.9 :\n",
        "      print(cols[i], cols[j], corr10.iloc[i, j])"
      ]
    },
    {
      "cell_type": "code",
      "execution_count": null,
      "metadata": {
        "colab": {
          "base_uri": "https://localhost:8080/",
          "height": 502
        },
        "id": "oYU9Si90hQc-",
        "outputId": "af4b54dc-a6c4-4818-9fe8-fe12efed6563"
      },
      "outputs": [
        {
          "data": {
            "image/png": "[encoded data removed]",
            "text/plain": [
              "<Figure size 800x600 with 1 Axes>"
            ]
          },
          "metadata": {},
          "output_type": "display_data"
        }
      ],
      "source": [
        "#변수 중요도 확인\n",
        "ser10 = pd.Series(rf10_reg.feature_importances_, index=X_train10.columns)\n",
        "ser10.sort_values(inplace=True)\n",
        "\n",
        "plt.figure(figsize=(8,6))\n",
        "plt.title('Feature importance')\n",
        "sns.barplot(x = ser10, y = ser10.index)\n",
        "plt.show()\n"
      ]
    },
    {
      "cell_type": "code",
      "execution_count": null,
      "metadata": {
        "id": "dw5PrEVfhQc_"
      },
      "outputs": [],
      "source": [
        "#상관계수 & 중요도 기준으로 변수선택\n",
        "X_train10_1 = X_train10.drop(columns=['출근시간_승차수', '출근시간_하차수', '65세이상_남', '65세이상_여' , '일반점포수'], axis = 1)\n",
        "X_valid10_1 = X_valid10.drop(columns=['출근시간_승차수', '출근시간_하차수', '65세이상_남', '65세이상_여' , '일반점포수'], axis = 1)\n",
        "X_test10_1 = X_test10.drop(columns=['출근시간_승차수', '출근시간_하차수', '65세이상_남', '65세이상_여' , '일반점포수'], axis = 1)"
      ]
    },
    {
      "cell_type": "markdown",
      "source": [
        "변수 선택 후 model"
      ],
      "metadata": {
        "id": "ZgClxVR2xJxG"
      }
    },
    {
      "cell_type": "code",
      "execution_count": null,
      "metadata": {
        "colab": {
          "base_uri": "https://localhost:8080/"
        },
        "id": "Kp0Gj6snhQc_",
        "outputId": "dc673bb5-af9b-47a5-bbea-3b190d73f1f5"
      },
      "outputs": [
        {
          "name": "stdout",
          "output_type": "stream",
          "text": [
            "MSE of train10_1_reg: 0.04631176891859633\n",
            "MSE of valid10_1_reg: 0.5027624309392266\n"
          ]
        }
      ],
      "source": [
        "rf10_1_reg = RandomForestRegressor(random_state=0)\n",
        "rf10_1_reg.fit(X_train10_1, y_train10)\n",
        "pred_train10_1 = rf10_1_reg.predict(X_train10_1)\n",
        "pred_val10_1 = rf10_1_reg.predict(X_valid10_1)\n",
        "\n",
        "pred_train10_1 = round(pd.DataFrame(pred_train10_1))\n",
        "pred_val10_1 = round(pd.DataFrame(pred_val10_1))\n",
        "\n",
        "print('MSE of train10_1_reg:', mean_squared_error(y_train10, pred_train10_1))\n",
        "print('MSE of valid10_1_reg:', mean_squared_error(y_valid10, pred_val10_1))"
      ]
    },
    {
      "cell_type": "markdown",
      "metadata": {
        "id": "9wclUS9DxVnj"
      },
      "source": [
        "parameter tuning"
      ]
    },
    {
      "cell_type": "code",
      "execution_count": null,
      "metadata": {
        "id": "9_SxDCO9jGJV",
        "outputId": "f1ca88a6-2a26-4b96-8dc1-49627fa0d41c"
      },
      "outputs": [
        {
          "name": "stdout",
          "output_type": "stream",
          "text": [
            "최적 하이퍼파라미터: {'max_depth': None, 'max_features': 'sqrt', 'min_samples_leaf': 1, 'min_samples_split': 2, 'n_estimators': 300}\n",
            "최적 모델의 MSE: 0.36920847230615145\n"
          ]
        }
      ],
      "source": [
        "# RandomForestRegressor 모델 생성\n",
        "reg = RandomForestRegressor(random_state=0)\n",
        "\n",
        "# 탐색할 하이퍼파라미터 그리드 정의\n",
        "param_grid = {\n",
        "    'n_estimators': [100, 200, 300],  # 트리 개수\n",
        "    'max_depth': [None, 10, 20, 30],  # 트리의 최대 깊이\n",
        "    'min_samples_split': [2, 5, 10],  # 노드 분할 최소 샘플 수\n",
        "    'min_samples_leaf': [1, 2, 4],  # 리프 노드 최소 샘플 수\n",
        "    'max_features': ['auto', 'sqrt', 'log2'],  # 최대 특성 개수 설정\n",
        "}\n",
        "\n",
        "# Grid Search 객체 생성\n",
        "grid_search = GridSearchCV(estimator=reg, param_grid=param_grid, scoring='neg_mean_squared_error', cv=5)\n",
        "\n",
        "# Grid Search 수행\n",
        "grid_search.fit(X_train10_1, y_train10)\n",
        "\n",
        "# 최적의 하이퍼파라미터 출력\n",
        "print(\"최적 하이퍼파라미터:\", grid_search.best_params_)\n",
        "\n",
        "# 최적 모델의 성능 출력\n",
        "print(\"최적 모델의 MSE:\", -grid_search.best_score_)  # 음수 MSE 값을 양수로 변환하여 출력"
      ]
    },
    {
      "cell_type": "markdown",
      "metadata": {
        "id": "CKMbRPKWEwpT"
      },
      "source": [
        "### [A11] Regression"
      ]
    },
    {
      "cell_type": "code",
      "execution_count": null,
      "metadata": {
        "colab": {
          "base_uri": "https://localhost:8080/"
        },
        "id": "IQQj-7-qEwpV",
        "outputId": "026966e6-49ca-4eed-c9a9-fe00b4f3f44d"
      },
      "outputs": [
        {
          "name": "stdout",
          "output_type": "stream",
          "text": [
            "MSE of train11_reg: 0.004052734375\n",
            "MSE of valid11_reg: 0.3853506990082447\n"
          ]
        }
      ],
      "source": [
        "etr11_reg = ExtraTreesRegressor(random_state=0)\n",
        "etr11_reg.fit(X_train11, y_train11)\n",
        "pred_train11 = etr11_reg.predict(X_train11)\n",
        "pred_val11 = etr11_reg.predict(X_valid11)\n",
        "\n",
        "pred_train11 = round(pd.DataFrame(pred_train11))\n",
        "pred_val11 = round(pd.DataFrame(pred_val11))\n",
        "\n",
        "print('MSE of train11_reg:', mean_squared_error(y_train11, pred_train11))\n",
        "print('MSE of valid11_reg:', mean_squared_error(y_valid11, pred_val11))"
      ]
    },
    {
      "cell_type": "code",
      "execution_count": null,
      "metadata": {
        "colab": {
          "base_uri": "https://localhost:8080/"
        },
        "id": "Ow7XbWgLkDWx",
        "outputId": "bea2e193-7fea-4436-b9d4-d7790684d524"
      },
      "outputs": [
        {
          "name": "stdout",
          "output_type": "stream",
          "text": [
            "일반점포수 전체점포수 0.9988014566227834\n",
            "1층 임대료 전체 임대료 0.9325053649932055\n",
            "1층 외 임대료 전체 임대료 0.9100924514499427\n",
            "65세이상_남 65세이상 0.9927740581459378\n",
            "65세이상_여 65세이상 0.9955715154015985\n",
            "65세이상_여 65세이상_남 0.9770968363899589\n",
            "주말_하차수 출근시간_승차수 0.977861062227386\n"
          ]
        }
      ],
      "source": [
        "#상관계수 확인\n",
        "cols = X_train11.columns\n",
        "corr11 = X_train11.corr()\n",
        "for i in range(len(cols)) :\n",
        "  for j in range(len(cols)) :\n",
        "    if i > j and corr11.iloc[i, j] > 0.9 :\n",
        "      print(cols[i], cols[j], corr11.iloc[i, j])"
      ]
    },
    {
      "cell_type": "code",
      "execution_count": null,
      "metadata": {
        "colab": {
          "base_uri": "https://localhost:8080/",
          "height": 502
        },
        "id": "es6hHQzokDWy",
        "outputId": "0b41ea08-8450-4333-f5bb-4d689377e914"
      },
      "outputs": [
        {
          "data": {
            "image/png": "[encoded data removed]",
            "text/plain": [
              "<Figure size 800x600 with 1 Axes>"
            ]
          },
          "metadata": {},
          "output_type": "display_data"
        }
      ],
      "source": [
        "#변수 중요도 확인\n",
        "ser11 = pd.Series(etr11_reg.feature_importances_, index=X_train11.columns)\n",
        "ser11.sort_values(inplace=True)\n",
        "\n",
        "plt.figure(figsize=(8,6))\n",
        "plt.title('Feature importance')\n",
        "sns.barplot(x = ser11, y = ser11.index)\n",
        "plt.show()\n"
      ]
    },
    {
      "cell_type": "code",
      "execution_count": null,
      "metadata": {
        "id": "XOJPWkEbkDWz"
      },
      "outputs": [],
      "source": [
        "#상관계수 & 중요도 기준으로 변수선택\n",
        "X_train11_1 = X_train11.drop(columns=['65세이상_남','65세이상_여', '전체점포수'], axis = 1)\n",
        "X_valid11_1 = X_valid11.drop(columns=['65세이상_남','65세이상_여', '전체점포수'], axis = 1)\n",
        "X_test11_1 = X_test11.drop(columns=['65세이상_남','65세이상_여', '전체점포수'], axis = 1)"
      ]
    },
    {
      "cell_type": "markdown",
      "source": [
        "변수 선택 후 model"
      ],
      "metadata": {
        "id": "LN0uZvwHx5gD"
      }
    },
    {
      "cell_type": "code",
      "execution_count": null,
      "metadata": {
        "colab": {
          "base_uri": "https://localhost:8080/"
        },
        "id": "21Xv40tgkDW0",
        "outputId": "7100b28d-3f0d-4d4f-d137-c792a0a288fd"
      },
      "outputs": [
        {
          "name": "stdout",
          "output_type": "stream",
          "text": [
            "MSE of train11_1_reg: 0.004052734375\n",
            "MSE of valid11_1_reg: 0.3815270641653722\n"
          ]
        }
      ],
      "source": [
        "etr11_1_reg = ExtraTreesRegressor(random_state=0)\n",
        "etr11_1_reg.fit(X_train11_1, y_train11)\n",
        "pred_train11_1 = etr11_1_reg.predict(X_train11_1)\n",
        "pred_val11_1 = etr11_1_reg.predict(X_valid11_1)\n",
        "\n",
        "pred_train11_1 = round(pd.DataFrame(pred_train11_1))\n",
        "pred_val11_1 = round(pd.DataFrame(pred_val11_1))\n",
        "\n",
        "print('MSE of train11_1_reg:', mean_squared_error(y_train11, pred_train11_1))\n",
        "print('MSE of valid11_1_reg:', mean_squared_error(y_valid11, pred_val11_1))"
      ]
    },
    {
      "cell_type": "markdown",
      "metadata": {
        "id": "k1DRvW_Sx_vM"
      },
      "source": [
        "parameter tuning"
      ]
    },
    {
      "cell_type": "code",
      "execution_count": null,
      "metadata": {
        "id": "p5vl3BYotrWV",
        "outputId": "02f26be7-4214-4956-ed05-5adf8d85f3bf"
      },
      "outputs": [
        {
          "name": "stdout",
          "output_type": "stream",
          "text": [
            "최적 하이퍼파라미터: {'max_depth': None, 'max_features': 'sqrt', 'min_samples_leaf': 1, 'min_samples_split': 2, 'n_estimators': 300}\n",
            "최적 모델의 MSE: 0.37152510918511283\n"
          ]
        }
      ],
      "source": [
        "# 탐색할 하이퍼파라미터 그리드 정의\n",
        "param_grid = {\n",
        "    'n_estimators': [100, 200, 300],  # 트리 개수\n",
        "    'max_depth': [None, 10, 20, 30],  # 트리의 최대 깊이\n",
        "    'min_samples_split': [2, 5, 10],  # 노드 분할 최소 샘플 수\n",
        "    'min_samples_leaf': [1, 2, 4],  # 리프 노드 최소 샘플 수\n",
        "    'max_features': ['auto', 'sqrt', 'log2'],  # 최대 특성 개수 설정\n",
        "}\n",
        "\n",
        "# Grid Search 객체 생성\n",
        "reg = ExtraTreesRegressor(random_state=0)\n",
        "grid_search = GridSearchCV(estimator=reg, param_grid=param_grid, scoring='neg_mean_squared_error', cv=5)\n",
        "\n",
        "# Grid Search 수행\n",
        "grid_search.fit(X_train11_1, y_train11)\n",
        "\n",
        "# 최적의 하이퍼파라미터 출력\n",
        "print(\"최적 하이퍼파라미터:\", grid_search.best_params_)\n",
        "\n",
        "# 최적 모델의 성능 출력\n",
        "print(\"최적 모델의 MSE:\", -grid_search.best_score_)  # 음수 MSE 값을 양수로 변환하여 출력"
      ]
    },
    {
      "cell_type": "markdown",
      "source": [
        "### test 매출등급 예측"
      ],
      "metadata": {
        "id": "J9x7xkpf0E8Y"
      }
    },
    {
      "cell_type": "code",
      "execution_count": null,
      "metadata": {
        "id": "-kEOBIE9trYy",
        "outputId": "e6a05203-f3d3-4c7d-c195-526d77a49054"
      },
      "outputs": [
        {
          "data": {
            "text/html": [
              "<div>\n",
              "<style scoped>\n",
              "    .dataframe tbody tr th:only-of-type {\n",
              "        vertical-align: middle;\n",
              "    }\n",
              "\n",
              "    .dataframe tbody tr th {\n",
              "        vertical-align: top;\n",
              "    }\n",
              "\n",
              "    .dataframe thead th {\n",
              "        text-align: right;\n",
              "    }\n",
              "</style>\n",
              "<table border=\"1\" class=\"dataframe\">\n",
              "  <thead>\n",
              "    <tr style=\"text-align: right;\">\n",
              "      <th></th>\n",
              "      <th>LT_UNQ_NO</th>\n",
              "      <th>INDUSTRY_CD</th>\n",
              "      <th>STDG_EMD_CD</th>\n",
              "      <th>SLS_GRD_2301</th>\n",
              "      <th>SLS_GRD_2302</th>\n",
              "    </tr>\n",
              "  </thead>\n",
              "  <tbody>\n",
              "    <tr>\n",
              "      <th>0</th>\n",
              "      <td>1111011000101750003</td>\n",
              "      <td>A08</td>\n",
              "      <td>11110110</td>\n",
              "      <td>3.0</td>\n",
              "      <td>3.0</td>\n",
              "    </tr>\n",
              "    <tr>\n",
              "      <th>1</th>\n",
              "      <td>1111011700100050000</td>\n",
              "      <td>A08</td>\n",
              "      <td>11110117</td>\n",
              "      <td>3.0</td>\n",
              "      <td>3.0</td>\n",
              "    </tr>\n",
              "    <tr>\n",
              "      <th>2</th>\n",
              "      <td>1111011800101100034</td>\n",
              "      <td>A08</td>\n",
              "      <td>11110118</td>\n",
              "      <td>3.0</td>\n",
              "      <td>3.0</td>\n",
              "    </tr>\n",
              "    <tr>\n",
              "      <th>3</th>\n",
              "      <td>1111012200102010001</td>\n",
              "      <td>A08</td>\n",
              "      <td>11110122</td>\n",
              "      <td>3.0</td>\n",
              "      <td>3.0</td>\n",
              "    </tr>\n",
              "    <tr>\n",
              "      <th>4</th>\n",
              "      <td>1111012300101290001</td>\n",
              "      <td>A08</td>\n",
              "      <td>11110123</td>\n",
              "      <td>2.0</td>\n",
              "      <td>2.0</td>\n",
              "    </tr>\n",
              "  </tbody>\n",
              "</table>\n",
              "</div>"
            ],
            "text/plain": [
              "             LT_UNQ_NO INDUSTRY_CD  STDG_EMD_CD  SLS_GRD_2301  SLS_GRD_2302\n",
              "0  1111011000101750003         A08     11110110           3.0           3.0\n",
              "1  1111011700100050000         A08     11110117           3.0           3.0\n",
              "2  1111011800101100034         A08     11110118           3.0           3.0\n",
              "3  1111012200102010001         A08     11110122           3.0           3.0\n",
              "4  1111012300101290001         A08     11110123           2.0           2.0"
            ]
          },
          "execution_count": 40,
          "metadata": {},
          "output_type": "execute_result"
        }
      ],
      "source": [
        "# 테스트 데이터 예측\n",
        "pred_test8 = etr8_1_reg.predict(X_test8_1)\n",
        "pred_test8_round = round(pd.DataFrame(pred_test8))\n",
        "\n",
        "# 제출 형식으로 바꾸기\n",
        "pred_test_a08 = pd.concat([test8[['DATA_CRTR_YM', 'LT_UNQ_NO', 'INDUSTRY_CD', 'STDG_EMD_CD']].reset_index(drop=True), pred_test8_round], axis=1)\n",
        "pred_test_a08.rename(columns={0:'SLS_GRD'}, inplace=True)\n",
        "\n",
        "pred_test_a08_202301 = pred_test_a08[pred_test_a08['DATA_CRTR_YM']==202301]\n",
        "pred_test_a08_202302 = pred_test_a08[pred_test_a08['DATA_CRTR_YM']==202302]\n",
        "pred_test_a08_202301 = pred_test_a08_202301.sort_values(by='LT_UNQ_NO').reset_index(drop=True)\n",
        "pred_test_a08_202302 = pred_test_a08_202302.sort_values(by='LT_UNQ_NO').reset_index(drop=True)\n",
        "\n",
        "pred_test_a08_202301.rename(columns={'SLS_GRD':'SLS_GRD_2301'}, inplace=True)\n",
        "pred_test_a08_202302.rename(columns={'SLS_GRD':'SLS_GRD_2302'}, inplace=True)\n",
        "\n",
        "pred_test_a08_202301['SLS_GRD_2302'] = pred_test_a08_202302['SLS_GRD_2302']\n",
        "pred_test_a08 = pred_test_a08_202301\n",
        "pred_test_a08.drop(columns='DATA_CRTR_YM', axis=1, inplace=True)\n",
        "pred_test_a08.head()"
      ]
    },
    {
      "cell_type": "code",
      "execution_count": null,
      "metadata": {
        "id": "BOciDY5quSNO",
        "outputId": "25d01f2f-de09-4178-ac7f-702fffe9fc4d"
      },
      "outputs": [
        {
          "data": {
            "text/html": [
              "<div>\n",
              "<style scoped>\n",
              "    .dataframe tbody tr th:only-of-type {\n",
              "        vertical-align: middle;\n",
              "    }\n",
              "\n",
              "    .dataframe tbody tr th {\n",
              "        vertical-align: top;\n",
              "    }\n",
              "\n",
              "    .dataframe thead th {\n",
              "        text-align: right;\n",
              "    }\n",
              "</style>\n",
              "<table border=\"1\" class=\"dataframe\">\n",
              "  <thead>\n",
              "    <tr style=\"text-align: right;\">\n",
              "      <th></th>\n",
              "      <th>LT_UNQ_NO</th>\n",
              "      <th>INDUSTRY_CD</th>\n",
              "      <th>STDG_EMD_CD</th>\n",
              "      <th>SLS_GRD_2301</th>\n",
              "      <th>SLS_GRD_2302</th>\n",
              "    </tr>\n",
              "  </thead>\n",
              "  <tbody>\n",
              "    <tr>\n",
              "      <th>0</th>\n",
              "      <td>1111016800100010052</td>\n",
              "      <td>A09</td>\n",
              "      <td>11110168</td>\n",
              "      <td>2.0</td>\n",
              "      <td>2.0</td>\n",
              "    </tr>\n",
              "    <tr>\n",
              "      <th>1</th>\n",
              "      <td>1114016300101580009</td>\n",
              "      <td>A09</td>\n",
              "      <td>11140163</td>\n",
              "      <td>3.0</td>\n",
              "      <td>3.0</td>\n",
              "    </tr>\n",
              "    <tr>\n",
              "      <th>2</th>\n",
              "      <td>1117010100100600038</td>\n",
              "      <td>A09</td>\n",
              "      <td>11170101</td>\n",
              "      <td>4.0</td>\n",
              "      <td>4.0</td>\n",
              "    </tr>\n",
              "    <tr>\n",
              "      <th>3</th>\n",
              "      <td>1120010700100060002</td>\n",
              "      <td>A09</td>\n",
              "      <td>11200107</td>\n",
              "      <td>2.0</td>\n",
              "      <td>2.0</td>\n",
              "    </tr>\n",
              "    <tr>\n",
              "      <th>4</th>\n",
              "      <td>1120010700103090001</td>\n",
              "      <td>A09</td>\n",
              "      <td>11200107</td>\n",
              "      <td>3.0</td>\n",
              "      <td>3.0</td>\n",
              "    </tr>\n",
              "  </tbody>\n",
              "</table>\n",
              "</div>"
            ],
            "text/plain": [
              "             LT_UNQ_NO INDUSTRY_CD  STDG_EMD_CD  SLS_GRD_2301  SLS_GRD_2302\n",
              "0  1111016800100010052         A09     11110168           2.0           2.0\n",
              "1  1114016300101580009         A09     11140163           3.0           3.0\n",
              "2  1117010100100600038         A09     11170101           4.0           4.0\n",
              "3  1120010700100060002         A09     11200107           2.0           2.0\n",
              "4  1120010700103090001         A09     11200107           3.0           3.0"
            ]
          },
          "execution_count": 41,
          "metadata": {},
          "output_type": "execute_result"
        }
      ],
      "source": [
        "# 테스트 데이터 예측\n",
        "pred_test9 = etr9_1_reg.predict(X_test9_1)\n",
        "pred_test9_round = round(pd.DataFrame(pred_test9))\n",
        "\n",
        "# 제출 형식으로 바꾸기\n",
        "pred_test_a09 = pd.concat([test9[['DATA_CRTR_YM', 'LT_UNQ_NO', 'INDUSTRY_CD', 'STDG_EMD_CD']].reset_index(drop=True), pred_test9_round], axis=1)\n",
        "pred_test_a09.rename(columns={0:'SLS_GRD'}, inplace=True)\n",
        "\n",
        "pred_test_a09_202301 = pred_test_a09[pred_test_a09['DATA_CRTR_YM']==202301]\n",
        "pred_test_a09_202302 = pred_test_a09[pred_test_a09['DATA_CRTR_YM']==202302]\n",
        "pred_test_a09_202301 = pred_test_a09_202301.sort_values(by='LT_UNQ_NO').reset_index(drop=True)\n",
        "pred_test_a09_202302 = pred_test_a09_202302.sort_values(by='LT_UNQ_NO').reset_index(drop=True)\n",
        "\n",
        "pred_test_a09_202301.rename(columns={'SLS_GRD':'SLS_GRD_2301'}, inplace=True)\n",
        "pred_test_a09_202302.rename(columns={'SLS_GRD':'SLS_GRD_2302'}, inplace=True)\n",
        "\n",
        "pred_test_a09_202301['SLS_GRD_2302'] = pred_test_a09_202302['SLS_GRD_2302']\n",
        "pred_test_a09 = pred_test_a09_202301\n",
        "pred_test_a09.drop(columns='DATA_CRTR_YM', axis=1, inplace=True)\n",
        "pred_test_a09.head()"
      ]
    },
    {
      "cell_type": "code",
      "execution_count": null,
      "metadata": {
        "id": "eWhKHOH-uSNP",
        "outputId": "7d0571cd-540d-4d87-9933-6b7411cfcd4e"
      },
      "outputs": [
        {
          "data": {
            "text/html": [
              "<div>\n",
              "<style scoped>\n",
              "    .dataframe tbody tr th:only-of-type {\n",
              "        vertical-align: middle;\n",
              "    }\n",
              "\n",
              "    .dataframe tbody tr th {\n",
              "        vertical-align: top;\n",
              "    }\n",
              "\n",
              "    .dataframe thead th {\n",
              "        text-align: right;\n",
              "    }\n",
              "</style>\n",
              "<table border=\"1\" class=\"dataframe\">\n",
              "  <thead>\n",
              "    <tr style=\"text-align: right;\">\n",
              "      <th></th>\n",
              "      <th>LT_UNQ_NO</th>\n",
              "      <th>INDUSTRY_CD</th>\n",
              "      <th>STDG_EMD_CD</th>\n",
              "      <th>SLS_GRD_2301</th>\n",
              "      <th>SLS_GRD_2302</th>\n",
              "    </tr>\n",
              "  </thead>\n",
              "  <tbody>\n",
              "    <tr>\n",
              "      <th>0</th>\n",
              "      <td>1111011800100730000</td>\n",
              "      <td>A10</td>\n",
              "      <td>11110118</td>\n",
              "      <td>2.0</td>\n",
              "      <td>2.0</td>\n",
              "    </tr>\n",
              "    <tr>\n",
              "      <th>1</th>\n",
              "      <td>1111017100100200001</td>\n",
              "      <td>A10</td>\n",
              "      <td>11110171</td>\n",
              "      <td>3.0</td>\n",
              "      <td>3.0</td>\n",
              "    </tr>\n",
              "    <tr>\n",
              "      <th>2</th>\n",
              "      <td>1111017400106870004</td>\n",
              "      <td>A10</td>\n",
              "      <td>11110174</td>\n",
              "      <td>4.0</td>\n",
              "      <td>4.0</td>\n",
              "    </tr>\n",
              "    <tr>\n",
              "      <th>3</th>\n",
              "      <td>1114016200104320716</td>\n",
              "      <td>A10</td>\n",
              "      <td>11140162</td>\n",
              "      <td>4.0</td>\n",
              "      <td>4.0</td>\n",
              "    </tr>\n",
              "    <tr>\n",
              "      <th>4</th>\n",
              "      <td>1120011200112060000</td>\n",
              "      <td>A10</td>\n",
              "      <td>11200112</td>\n",
              "      <td>3.0</td>\n",
              "      <td>3.0</td>\n",
              "    </tr>\n",
              "  </tbody>\n",
              "</table>\n",
              "</div>"
            ],
            "text/plain": [
              "             LT_UNQ_NO INDUSTRY_CD  STDG_EMD_CD  SLS_GRD_2301  SLS_GRD_2302\n",
              "0  1111011800100730000         A10     11110118           2.0           2.0\n",
              "1  1111017100100200001         A10     11110171           3.0           3.0\n",
              "2  1111017400106870004         A10     11110174           4.0           4.0\n",
              "3  1114016200104320716         A10     11140162           4.0           4.0\n",
              "4  1120011200112060000         A10     11200112           3.0           3.0"
            ]
          },
          "execution_count": 42,
          "metadata": {},
          "output_type": "execute_result"
        }
      ],
      "source": [
        "# 테스트 데이터 예측\n",
        "pred_test10 = rf10_1_reg.predict(X_test10_1)\n",
        "pred_test10_round = round(pd.DataFrame(pred_test10))\n",
        "\n",
        "# 제출 형식으로 바꾸기\n",
        "pred_test_a10 = pd.concat([test10[['DATA_CRTR_YM', 'LT_UNQ_NO', 'INDUSTRY_CD', 'STDG_EMD_CD']].reset_index(drop=True), pred_test10_round], axis=1)\n",
        "pred_test_a10.rename(columns={0:'SLS_GRD'}, inplace=True)\n",
        "\n",
        "pred_test_a10_202301 = pred_test_a10[pred_test_a10['DATA_CRTR_YM']==202301]\n",
        "pred_test_a10_202302 = pred_test_a10[pred_test_a10['DATA_CRTR_YM']==202302]\n",
        "pred_test_a10_202301 = pred_test_a10_202301.sort_values(by='LT_UNQ_NO').reset_index(drop=True)\n",
        "pred_test_a10_202302 = pred_test_a10_202302.sort_values(by='LT_UNQ_NO').reset_index(drop=True)\n",
        "\n",
        "pred_test_a10_202301.rename(columns={'SLS_GRD':'SLS_GRD_2301'}, inplace=True)\n",
        "pred_test_a10_202302.rename(columns={'SLS_GRD':'SLS_GRD_2302'}, inplace=True)\n",
        "\n",
        "pred_test_a10_202301['SLS_GRD_2302'] = pred_test_a10_202302['SLS_GRD_2302']\n",
        "pred_test_a10 = pred_test_a10_202301\n",
        "pred_test_a10.drop(columns='DATA_CRTR_YM', axis=1, inplace=True)\n",
        "pred_test_a10.head()"
      ]
    },
    {
      "cell_type": "code",
      "execution_count": null,
      "metadata": {
        "id": "VvYU0HdyuSNP",
        "outputId": "a9918a3b-d2b8-4005-9f9e-342d35331be6"
      },
      "outputs": [
        {
          "data": {
            "text/html": [
              "<div>\n",
              "<style scoped>\n",
              "    .dataframe tbody tr th:only-of-type {\n",
              "        vertical-align: middle;\n",
              "    }\n",
              "\n",
              "    .dataframe tbody tr th {\n",
              "        vertical-align: top;\n",
              "    }\n",
              "\n",
              "    .dataframe thead th {\n",
              "        text-align: right;\n",
              "    }\n",
              "</style>\n",
              "<table border=\"1\" class=\"dataframe\">\n",
              "  <thead>\n",
              "    <tr style=\"text-align: right;\">\n",
              "      <th></th>\n",
              "      <th>LT_UNQ_NO</th>\n",
              "      <th>INDUSTRY_CD</th>\n",
              "      <th>STDG_EMD_CD</th>\n",
              "      <th>SLS_GRD_2301</th>\n",
              "      <th>SLS_GRD_2302</th>\n",
              "    </tr>\n",
              "  </thead>\n",
              "  <tbody>\n",
              "    <tr>\n",
              "      <th>0</th>\n",
              "      <td>1111011700101280027</td>\n",
              "      <td>A11</td>\n",
              "      <td>11110117</td>\n",
              "      <td>2.0</td>\n",
              "      <td>2.0</td>\n",
              "    </tr>\n",
              "    <tr>\n",
              "      <th>1</th>\n",
              "      <td>1111011800101100039</td>\n",
              "      <td>A11</td>\n",
              "      <td>11110118</td>\n",
              "      <td>2.0</td>\n",
              "      <td>2.0</td>\n",
              "    </tr>\n",
              "    <tr>\n",
              "      <th>2</th>\n",
              "      <td>1111012100100920000</td>\n",
              "      <td>A11</td>\n",
              "      <td>11110121</td>\n",
              "      <td>2.0</td>\n",
              "      <td>2.0</td>\n",
              "    </tr>\n",
              "    <tr>\n",
              "      <th>3</th>\n",
              "      <td>1111012200100110003</td>\n",
              "      <td>A11</td>\n",
              "      <td>11110122</td>\n",
              "      <td>2.0</td>\n",
              "      <td>2.0</td>\n",
              "    </tr>\n",
              "    <tr>\n",
              "      <th>4</th>\n",
              "      <td>1111012400100850000</td>\n",
              "      <td>A11</td>\n",
              "      <td>11110124</td>\n",
              "      <td>2.0</td>\n",
              "      <td>2.0</td>\n",
              "    </tr>\n",
              "  </tbody>\n",
              "</table>\n",
              "</div>"
            ],
            "text/plain": [
              "             LT_UNQ_NO INDUSTRY_CD  STDG_EMD_CD  SLS_GRD_2301  SLS_GRD_2302\n",
              "0  1111011700101280027         A11     11110117           2.0           2.0\n",
              "1  1111011800101100039         A11     11110118           2.0           2.0\n",
              "2  1111012100100920000         A11     11110121           2.0           2.0\n",
              "3  1111012200100110003         A11     11110122           2.0           2.0\n",
              "4  1111012400100850000         A11     11110124           2.0           2.0"
            ]
          },
          "execution_count": 43,
          "metadata": {},
          "output_type": "execute_result"
        }
      ],
      "source": [
        "# 테스트 데이터 예측\n",
        "pred_test11 = etr11_1_reg.predict(X_test11_1)\n",
        "pred_test11_round = round(pd.DataFrame(pred_test11))\n",
        "\n",
        "# 제출 형식으로 바꾸기\n",
        "pred_test_a11 = pd.concat([test11[['DATA_CRTR_YM', 'LT_UNQ_NO', 'INDUSTRY_CD', 'STDG_EMD_CD']].reset_index(drop=True), pred_test11_round], axis=1)\n",
        "pred_test_a11.rename(columns={0:'SLS_GRD'}, inplace=True)\n",
        "\n",
        "pred_test_a11_202301 = pred_test_a11[pred_test_a11['DATA_CRTR_YM']==202301]\n",
        "pred_test_a11_202302 = pred_test_a11[pred_test_a11['DATA_CRTR_YM']==202302]\n",
        "pred_test_a11_202301 = pred_test_a11_202301.sort_values(by='LT_UNQ_NO').reset_index(drop=True)\n",
        "pred_test_a11_202302 = pred_test_a11_202302.sort_values(by='LT_UNQ_NO').reset_index(drop=True)\n",
        "\n",
        "pred_test_a11_202301.rename(columns={'SLS_GRD':'SLS_GRD_2301'}, inplace=True)\n",
        "pred_test_a11_202302.rename(columns={'SLS_GRD':'SLS_GRD_2302'}, inplace=True)\n",
        "\n",
        "pred_test_a11_202301['SLS_GRD_2302'] = pred_test_a11_202302['SLS_GRD_2302']\n",
        "pred_test_a11 = pred_test_a11_202301\n",
        "pred_test_a11.drop(columns='DATA_CRTR_YM', axis=1, inplace=True)\n",
        "pred_test_a11.head()"
      ]
    },
    {
      "cell_type": "code",
      "execution_count": null,
      "metadata": {
        "id": "Q3IEH3d0trbQ"
      },
      "outputs": [],
      "source": [
        "pred_test_a891011=pd.concat([pred_test_a08,pred_test_a09,pred_test_a10,pred_test_a11])"
      ]
    },
    {
      "cell_type": "code",
      "execution_count": null,
      "metadata": {
        "id": "7zc30E5-uSNQ",
        "outputId": "54de61ef-e11c-415f-fa45-c7ec61e1af7b"
      },
      "outputs": [
        {
          "data": {
            "text/html": [
              "<div>\n",
              "<style scoped>\n",
              "    .dataframe tbody tr th:only-of-type {\n",
              "        vertical-align: middle;\n",
              "    }\n",
              "\n",
              "    .dataframe tbody tr th {\n",
              "        vertical-align: top;\n",
              "    }\n",
              "\n",
              "    .dataframe thead th {\n",
              "        text-align: right;\n",
              "    }\n",
              "</style>\n",
              "<table border=\"1\" class=\"dataframe\">\n",
              "  <thead>\n",
              "    <tr style=\"text-align: right;\">\n",
              "      <th></th>\n",
              "      <th>LT_UNQ_NO</th>\n",
              "      <th>INDUSTRY_CD</th>\n",
              "      <th>STDG_EMD_CD</th>\n",
              "      <th>SLS_GRD_2301</th>\n",
              "      <th>SLS_GRD_2302</th>\n",
              "    </tr>\n",
              "  </thead>\n",
              "  <tbody>\n",
              "    <tr>\n",
              "      <th>0</th>\n",
              "      <td>1111011000101750003</td>\n",
              "      <td>A08</td>\n",
              "      <td>11110110</td>\n",
              "      <td>3.0</td>\n",
              "      <td>3.0</td>\n",
              "    </tr>\n",
              "    <tr>\n",
              "      <th>1</th>\n",
              "      <td>1111011700100050000</td>\n",
              "      <td>A08</td>\n",
              "      <td>11110117</td>\n",
              "      <td>3.0</td>\n",
              "      <td>3.0</td>\n",
              "    </tr>\n",
              "    <tr>\n",
              "      <th>2</th>\n",
              "      <td>1111011800101100034</td>\n",
              "      <td>A08</td>\n",
              "      <td>11110118</td>\n",
              "      <td>3.0</td>\n",
              "      <td>3.0</td>\n",
              "    </tr>\n",
              "    <tr>\n",
              "      <th>3</th>\n",
              "      <td>1111012200102010001</td>\n",
              "      <td>A08</td>\n",
              "      <td>11110122</td>\n",
              "      <td>3.0</td>\n",
              "      <td>3.0</td>\n",
              "    </tr>\n",
              "    <tr>\n",
              "      <th>4</th>\n",
              "      <td>1111012300101290001</td>\n",
              "      <td>A08</td>\n",
              "      <td>11110123</td>\n",
              "      <td>2.0</td>\n",
              "      <td>2.0</td>\n",
              "    </tr>\n",
              "    <tr>\n",
              "      <th>...</th>\n",
              "      <td>...</td>\n",
              "      <td>...</td>\n",
              "      <td>...</td>\n",
              "      <td>...</td>\n",
              "      <td>...</td>\n",
              "    </tr>\n",
              "    <tr>\n",
              "      <th>438</th>\n",
              "      <td>1174010900100450002</td>\n",
              "      <td>A11</td>\n",
              "      <td>11740109</td>\n",
              "      <td>4.0</td>\n",
              "      <td>4.0</td>\n",
              "    </tr>\n",
              "    <tr>\n",
              "      <th>439</th>\n",
              "      <td>1174010900102370003</td>\n",
              "      <td>A11</td>\n",
              "      <td>11740109</td>\n",
              "      <td>4.0</td>\n",
              "      <td>3.0</td>\n",
              "    </tr>\n",
              "    <tr>\n",
              "      <th>440</th>\n",
              "      <td>1174010900102970002</td>\n",
              "      <td>A11</td>\n",
              "      <td>11740109</td>\n",
              "      <td>3.0</td>\n",
              "      <td>3.0</td>\n",
              "    </tr>\n",
              "    <tr>\n",
              "      <th>441</th>\n",
              "      <td>1174010900103250006</td>\n",
              "      <td>A11</td>\n",
              "      <td>11740109</td>\n",
              "      <td>4.0</td>\n",
              "      <td>4.0</td>\n",
              "    </tr>\n",
              "    <tr>\n",
              "      <th>442</th>\n",
              "      <td>1174010900104470017</td>\n",
              "      <td>A11</td>\n",
              "      <td>11740109</td>\n",
              "      <td>3.0</td>\n",
              "      <td>3.0</td>\n",
              "    </tr>\n",
              "  </tbody>\n",
              "</table>\n",
              "<p>1021 rows × 5 columns</p>\n",
              "</div>"
            ],
            "text/plain": [
              "               LT_UNQ_NO INDUSTRY_CD  STDG_EMD_CD  SLS_GRD_2301  SLS_GRD_2302\n",
              "0    1111011000101750003         A08     11110110           3.0           3.0\n",
              "1    1111011700100050000         A08     11110117           3.0           3.0\n",
              "2    1111011800101100034         A08     11110118           3.0           3.0\n",
              "3    1111012200102010001         A08     11110122           3.0           3.0\n",
              "4    1111012300101290001         A08     11110123           2.0           2.0\n",
              "..                   ...         ...          ...           ...           ...\n",
              "438  1174010900100450002         A11     11740109           4.0           4.0\n",
              "439  1174010900102370003         A11     11740109           4.0           3.0\n",
              "440  1174010900102970002         A11     11740109           3.0           3.0\n",
              "441  1174010900103250006         A11     11740109           4.0           4.0\n",
              "442  1174010900104470017         A11     11740109           3.0           3.0\n",
              "\n",
              "[1021 rows x 5 columns]"
            ]
          },
          "execution_count": 45,
          "metadata": {},
          "output_type": "execute_result"
        }
      ],
      "source": [
        "pred_test_a891011"
      ]
    }
  ],
  "metadata": {
    "colab": {
      "provenance": [],
      "collapsed_sections": [
        "hbPhjTP2QjJe",
        "e6cf0901",
        "BySLMrVpur2Y",
        "SB3pVYCh-Tw1",
        "_eBcfbp9Amy2",
        "CKMbRPKWEwpT",
        "J9x7xkpf0E8Y"
      ]
    },
    "kernelspec": {
      "display_name": "Python 3",
      "name": "python3"
    },
    "language_info": {
      "codemirror_mode": {
        "name": "ipython",
        "version": 3
      },
      "file_extension": ".py",
      "mimetype": "text/x-python",
      "name": "python",
      "nbconvert_exporter": "python",
      "pygments_lexer": "ipython3",
      "version": "3.11.4"
    }
  },
  "nbformat": 4,
  "nbformat_minor": 0
}