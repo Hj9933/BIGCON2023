{
 "cells": [
  {
   "cell_type": "code",
   "execution_count": 45,
   "metadata": {},
   "outputs": [],
   "source": [
    "import pandas as pd\n",
    "import numpy as np"
   ]
  },
  {
   "cell_type": "markdown",
   "metadata": {},
   "source": [
    "#### train 데이터 필지 뽑아서 행정동&필지번호 합치기"
   ]
  },
  {
   "cell_type": "code",
   "execution_count": 46,
   "metadata": {},
   "outputs": [],
   "source": [
    "raw_data = pd.read_csv('C:/Users/장희중학부재학통계학과/OneDrive - 고려대학교/바탕 화면/hj/공모전/2023 빅콘테스트/data/raw/필지단위 소상공인 매출등급 정보.csv', encoding='cp949')\n",
    "match = pd.read_csv('C:/Users/장희중학부재학통계학과/OneDrive - 고려대학교/바탕 화면/hj/공모전/2023 빅콘테스트/data/필지번호_행정동.csv', encoding='cp949')\n",
    "test = pd.read_excel('C:/Users/장희중학부재학통계학과/OneDrive - 고려대학교/바탕 화면/hj/공모전/2023 빅콘테스트/data/raw/소상공인 매출등급 예상 대상 필지.xlsx')"
   ]
  },
  {
   "cell_type": "code",
   "execution_count": null,
   "metadata": {},
   "outputs": [
    {
     "name": "stderr",
     "output_type": "stream",
     "text": [
      "C:\\Users\\장희중학부재학통계학과\\AppData\\Local\\Temp\\ipykernel_21592\\2735373568.py:4: SettingWithCopyWarning: \n",
      "A value is trying to be set on a copy of a slice from a DataFrame.\n",
      "Try using .loc[row_indexer,col_indexer] = value instead\n",
      "\n",
      "See the caveats in the documentation: https://pandas.pydata.org/pandas-docs/stable/user_guide/indexing.html#returning-a-view-versus-a-copy\n",
      "  test_2301['DATA_CRTR_YM'] = 202301\n",
      "C:\\Users\\장희중학부재학통계학과\\AppData\\Local\\Temp\\ipykernel_21592\\2735373568.py:5: SettingWithCopyWarning: \n",
      "A value is trying to be set on a copy of a slice from a DataFrame.\n",
      "Try using .loc[row_indexer,col_indexer] = value instead\n",
      "\n",
      "See the caveats in the documentation: https://pandas.pydata.org/pandas-docs/stable/user_guide/indexing.html#returning-a-view-versus-a-copy\n",
      "  test_2302['DATA_CRTR_YM'] = 202302\n"
     ]
    }
   ],
   "source": [
    "# test 데이터는 202301과 202302가 열별로 되어있어 각각 데이터프레임 만든 후 raw데이터 밑으로 붙이기\n",
    "test_2301 = test[['LT_UNQ_NO', 'INDUSTRY_CD', 'STDG_EMD_CD']]\n",
    "test_2302 = test[['LT_UNQ_NO', 'INDUSTRY_CD', 'STDG_EMD_CD']]\n",
    "test_2301['DATA_CRTR_YM'] = 202301\n",
    "test_2302['DATA_CRTR_YM'] = 202302"
   ]
  },
  {
   "cell_type": "code",
   "execution_count": null,
   "metadata": {},
   "outputs": [],
   "source": [
    "test_2301 = test_2301[['DATA_CRTR_YM', 'LT_UNQ_NO', 'STDG_EMD_CD', 'INDUSTRY_CD']]\n",
    "test_2302 = test_2302[['DATA_CRTR_YM', 'LT_UNQ_NO', 'STDG_EMD_CD', 'INDUSTRY_CD']]"
   ]
  },
  {
   "cell_type": "code",
   "execution_count": null,
   "metadata": {},
   "outputs": [],
   "source": [
    "raw_data = pd.concat([raw_data,test_2301, test_2302])"
   ]
  },
  {
   "cell_type": "code",
   "execution_count": null,
   "metadata": {},
   "outputs": [
    {
     "name": "stdout",
     "output_type": "stream",
     "text": [
      "      DATA_CRTR_YM            LT_UNQ_NO  STDG_EMD_CD INDUSTRY_CD  SLS_GRD\n",
      "0           202201  1111010100100030100     11110101         A03      4.0\n",
      "1           202201  1111010100100480000     11110101         A01      2.0\n",
      "2           202201  1111010100100590001     11110101         A11      3.0\n",
      "3           202201  1111010100100590005     11110101         A03      2.0\n",
      "4           202201  1111010100100690000     11110101         A01      2.0\n",
      "...            ...                  ...          ...         ...      ...\n",
      "9995        202302  1130510100100830004     11305101         A03      NaN\n",
      "9996        202302  1135010300107450000     11350103         A13      NaN\n",
      "9997        202302  1150010300103400017     11500103         A06      NaN\n",
      "9998        202302  1144012700116070000     11440127         A03      NaN\n",
      "9999        202302  1126010400100770063     11260104         A03      NaN\n",
      "\n",
      "[1176040 rows x 5 columns]\n",
      "                   PNU  SGG_CD SGG_NM    EMD_CD EMD_NM    ADM_CD ADM_NM\n",
      "0  1111010100100010000   11110    종로구  11110101    청운동  11010720  청운효자동\n",
      "1  1111010100100010001   11110    종로구  11110101    청운동  11010720  청운효자동\n",
      "2  1111010100100010002   11110    종로구  11110101    청운동  11010720  청운효자동\n",
      "3  1111010100100010003   11110    종로구  11110101    청운동  11010720  청운효자동\n",
      "4  1111010100100010004   11110    종로구  11110101    청운동  11010720  청운효자동\n"
     ]
    }
   ],
   "source": [
    "print(raw_data)\n",
    "print(match.head())"
   ]
  },
  {
   "cell_type": "code",
   "execution_count": null,
   "metadata": {},
   "outputs": [
    {
     "name": "stderr",
     "output_type": "stream",
     "text": [
      "C:\\Users\\장희중학부재학통계학과\\AppData\\Local\\Temp\\ipykernel_21592\\568015034.py:7: SettingWithCopyWarning: \n",
      "A value is trying to be set on a copy of a slice from a DataFrame\n",
      "\n",
      "See the caveats in the documentation: https://pandas.pydata.org/pandas-docs/stable/user_guide/indexing.html#returning-a-view-versus-a-copy\n",
      "  match['ADM_NM'][i] = '신사동2'\n",
      "C:\\Users\\장희중학부재학통계학과\\AppData\\Local\\Temp\\ipykernel_21592\\568015034.py:5: SettingWithCopyWarning: \n",
      "A value is trying to be set on a copy of a slice from a DataFrame\n",
      "\n",
      "See the caveats in the documentation: https://pandas.pydata.org/pandas-docs/stable/user_guide/indexing.html#returning-a-view-versus-a-copy\n",
      "  match['ADM_NM'][i] = '신사동1'\n"
     ]
    }
   ],
   "source": [
    "# 신사동이 관악구, 강남구 둘 다에 있어서 처리해줘야함. 이외에 구는 경계에 걸친 애들\n",
    "for i in range(len(match)):\n",
    "    if match['ADM_NM'][i] == '신사동':\n",
    "        if (match['SGG_NM'][i] == '관악구') or (match['SGG_NM'][i] == '동작구'):\n",
    "            match['ADM_NM'][i] = '신사동1'\n",
    "        elif (match['SGG_NM'][i] == '강남구') or (match['SGG_NM'][i] == '서초구') or (match['SGG_NM'][i] == '용산구')or (match['SGG_NM'][i] == '성동구'):\n",
    "            match['ADM_NM'][i] = '신사동2'"
   ]
  },
  {
   "cell_type": "markdown",
   "metadata": {},
   "source": [
    "##### raw데이터에서 매칭 안되는 필지번호는 분리"
   ]
  },
  {
   "cell_type": "code",
   "execution_count": null,
   "metadata": {},
   "outputs": [],
   "source": [
    "X = pd.DataFrame(raw_data['LT_UNQ_NO'].unique())\n",
    "Y = pd.DataFrame(match['PNU'].unique())\n",
    "PNU_NOTIN_data = pd.DataFrame(set(raw_data['LT_UNQ_NO'].unique())-set(match['PNU'].unique()))\n",
    "PNU_IN_data = pd.DataFrame(set(raw_data['LT_UNQ_NO'].unique()) & set(match['PNU'].unique()))\n",
    "PNU_NOTIN_data.rename(columns={0:'PNU'}, inplace=True)\n",
    "PNU_IN_data.rename(columns={0:'PNU'}, inplace=True)"
   ]
  },
  {
   "cell_type": "code",
   "execution_count": null,
   "metadata": {},
   "outputs": [
    {
     "name": "stdout",
     "output_type": "stream",
     "text": [
      "74303\n",
      "74303\n",
      "74199\n",
      "104\n"
     ]
    }
   ],
   "source": [
    "print(len(X))\n",
    "print(len(PNU_IN_data) + len(PNU_NOTIN_data))\n",
    "print(len(PNU_IN_data))\n",
    "print(len(PNU_NOTIN_data))"
   ]
  },
  {
   "cell_type": "code",
   "execution_count": null,
   "metadata": {},
   "outputs": [],
   "source": [
    "raw_in_match = raw_data[raw_data['LT_UNQ_NO'].isin(PNU_IN_data['PNU'])]\n",
    "raw_notin_match = raw_data[~raw_data['LT_UNQ_NO'].isin(PNU_IN_data['PNU'])]"
   ]
  },
  {
   "cell_type": "code",
   "execution_count": null,
   "metadata": {},
   "outputs": [
    {
     "name": "stdout",
     "output_type": "stream",
     "text": [
      "1176040\n",
      "1176040\n",
      "1172902\n",
      "3138\n"
     ]
    }
   ],
   "source": [
    "print(len(raw_data))\n",
    "print(len(raw_in_match) + len(raw_notin_match))\n",
    "print(len(raw_in_match))\n",
    "print(len(raw_notin_match))"
   ]
  },
  {
   "cell_type": "code",
   "execution_count": null,
   "metadata": {},
   "outputs": [],
   "source": [
    "# 데이터에 있는 필지번호와 match를 merge\n",
    "df = pd.merge(PNU_IN_data, match, how='left')\n",
    "\n",
    "# 중복 필지 중 하나만 남기고 제거\n",
    "df.drop_duplicates(subset='PNU', keep='first', inplace=True, ignore_index=False)"
   ]
  },
  {
   "cell_type": "code",
   "execution_count": null,
   "metadata": {},
   "outputs": [
    {
     "name": "stdout",
     "output_type": "stream",
     "text": [
      "74199\n",
      "74199\n"
     ]
    }
   ],
   "source": [
    "print(len(PNU_IN_data))\n",
    "print(len(df))"
   ]
  },
  {
   "cell_type": "code",
   "execution_count": null,
   "metadata": {},
   "outputs": [],
   "source": [
    "# raw데이터에 행정동명 합치기\n",
    "raw_in_match = pd.merge(raw_in_match, df[['PNU', 'ADM_CD', 'ADM_NM']], how='left', left_on = 'LT_UNQ_NO', right_on = 'PNU')"
   ]
  },
  {
   "cell_type": "code",
   "execution_count": null,
   "metadata": {},
   "outputs": [],
   "source": [
    "raw_in_match = raw_in_match[['DATA_CRTR_YM', 'LT_UNQ_NO', 'STDG_EMD_CD', 'ADM_CD', 'ADM_NM', 'INDUSTRY_CD', 'SLS_GRD']]"
   ]
  },
  {
   "cell_type": "code",
   "execution_count": null,
   "metadata": {},
   "outputs": [
    {
     "name": "stdout",
     "output_type": "stream",
     "text": [
      "<class 'pandas.core.frame.DataFrame'>\n",
      "Int64Index: 1172902 entries, 0 to 1172901\n",
      "Data columns (total 7 columns):\n",
      " #   Column        Non-Null Count    Dtype  \n",
      "---  ------        --------------    -----  \n",
      " 0   DATA_CRTR_YM  1172902 non-null  int64  \n",
      " 1   LT_UNQ_NO     1172902 non-null  int64  \n",
      " 2   STDG_EMD_CD   1172902 non-null  int64  \n",
      " 3   ADM_CD        1172902 non-null  int64  \n",
      " 4   ADM_NM        1172902 non-null  object \n",
      " 5   INDUSTRY_CD   1172902 non-null  object \n",
      " 6   SLS_GRD       1152932 non-null  float64\n",
      "dtypes: float64(1), int64(4), object(2)\n",
      "memory usage: 71.6+ MB\n"
     ]
    }
   ],
   "source": [
    "raw_in_match.info()"
   ]
  },
  {
   "cell_type": "markdown",
   "metadata": {},
   "source": [
    "#### 점포수 데이터 raw에 붙이기"
   ]
  },
  {
   "cell_type": "code",
   "execution_count": null,
   "metadata": {},
   "outputs": [
    {
     "name": "stderr",
     "output_type": "stream",
     "text": [
      "C:\\Users\\장희중학부재학통계학과\\AppData\\Local\\Temp\\ipykernel_21592\\1287381924.py:3: SettingWithCopyWarning: \n",
      "A value is trying to be set on a copy of a slice from a DataFrame\n",
      "\n",
      "See the caveats in the documentation: https://pandas.pydata.org/pandas-docs/stable/user_guide/indexing.html#returning-a-view-versus-a-copy\n",
      "  raw_in_match['ADM_NM'][raw_in_match['ADM_NM'] == '상일2동'] = '상일동'\n"
     ]
    }
   ],
   "source": [
    "# raw_in_match에서 '상일1동', '상일2동'이 데이터에서는 '상일동'. 따라서 raw_in_match의 '상일1동', '상일2동'을 '상일동'으로 바꾸어줘야함\n",
    "raw_in_match['ADM_NM'][raw_in_match['ADM_NM'] == '상일1동'] = '상일동'\n",
    "raw_in_match['ADM_NM'][raw_in_match['ADM_NM'] == '상일2동'] = '상일동'"
   ]
  },
  {
   "cell_type": "code",
   "execution_count": null,
   "metadata": {},
   "outputs": [
    {
     "data": {
      "text/html": [
       "<div>\n",
       "<style scoped>\n",
       "    .dataframe tbody tr th:only-of-type {\n",
       "        vertical-align: middle;\n",
       "    }\n",
       "\n",
       "    .dataframe tbody tr th {\n",
       "        vertical-align: top;\n",
       "    }\n",
       "\n",
       "    .dataframe thead th {\n",
       "        text-align: right;\n",
       "    }\n",
       "</style>\n",
       "<table border=\"1\" class=\"dataframe\">\n",
       "  <thead>\n",
       "    <tr style=\"text-align: right;\">\n",
       "      <th></th>\n",
       "      <th>행정구역</th>\n",
       "      <th>생활밀접업종</th>\n",
       "      <th>22-1전체점포수</th>\n",
       "      <th>22-1프랜차이즈점포수</th>\n",
       "      <th>22-1일반점포수</th>\n",
       "      <th>22-2전체점포수</th>\n",
       "      <th>22-2프랜차이즈점포수</th>\n",
       "      <th>22-2일반점포수</th>\n",
       "      <th>22-3전체점포수</th>\n",
       "      <th>22-3프랜차이즈점포수</th>\n",
       "      <th>22-3일반점포수</th>\n",
       "      <th>22-4전체점포수</th>\n",
       "      <th>22-4프랜차이즈점포수</th>\n",
       "      <th>22-4일반점포수</th>\n",
       "      <th>23-1전체점포수</th>\n",
       "      <th>23-1프랜차이즈점포수</th>\n",
       "      <th>23-1일반점포수</th>\n",
       "    </tr>\n",
       "  </thead>\n",
       "  <tbody>\n",
       "    <tr>\n",
       "      <th>0</th>\n",
       "      <td>청운효자동</td>\n",
       "      <td>전체</td>\n",
       "      <td>296</td>\n",
       "      <td>5</td>\n",
       "      <td>291</td>\n",
       "      <td>298</td>\n",
       "      <td>5</td>\n",
       "      <td>293</td>\n",
       "      <td>305</td>\n",
       "      <td>6</td>\n",
       "      <td>299</td>\n",
       "      <td>308</td>\n",
       "      <td>6</td>\n",
       "      <td>302</td>\n",
       "      <td>312</td>\n",
       "      <td>6</td>\n",
       "      <td>306</td>\n",
       "    </tr>\n",
       "    <tr>\n",
       "      <th>1</th>\n",
       "      <td>사직동</td>\n",
       "      <td>전체</td>\n",
       "      <td>991</td>\n",
       "      <td>121</td>\n",
       "      <td>870</td>\n",
       "      <td>996</td>\n",
       "      <td>118</td>\n",
       "      <td>878</td>\n",
       "      <td>994</td>\n",
       "      <td>120</td>\n",
       "      <td>874</td>\n",
       "      <td>1,001</td>\n",
       "      <td>121</td>\n",
       "      <td>880</td>\n",
       "      <td>995</td>\n",
       "      <td>117</td>\n",
       "      <td>878</td>\n",
       "    </tr>\n",
       "    <tr>\n",
       "      <th>2</th>\n",
       "      <td>삼청동</td>\n",
       "      <td>전체</td>\n",
       "      <td>257</td>\n",
       "      <td>28</td>\n",
       "      <td>229</td>\n",
       "      <td>259</td>\n",
       "      <td>29</td>\n",
       "      <td>230</td>\n",
       "      <td>259</td>\n",
       "      <td>30</td>\n",
       "      <td>229</td>\n",
       "      <td>266</td>\n",
       "      <td>30</td>\n",
       "      <td>236</td>\n",
       "      <td>270</td>\n",
       "      <td>29</td>\n",
       "      <td>241</td>\n",
       "    </tr>\n",
       "    <tr>\n",
       "      <th>3</th>\n",
       "      <td>부암동</td>\n",
       "      <td>전체</td>\n",
       "      <td>132</td>\n",
       "      <td>15</td>\n",
       "      <td>117</td>\n",
       "      <td>137</td>\n",
       "      <td>15</td>\n",
       "      <td>122</td>\n",
       "      <td>135</td>\n",
       "      <td>14</td>\n",
       "      <td>121</td>\n",
       "      <td>136</td>\n",
       "      <td>14</td>\n",
       "      <td>122</td>\n",
       "      <td>133</td>\n",
       "      <td>13</td>\n",
       "      <td>120</td>\n",
       "    </tr>\n",
       "    <tr>\n",
       "      <th>4</th>\n",
       "      <td>평창동</td>\n",
       "      <td>전체</td>\n",
       "      <td>144</td>\n",
       "      <td>15</td>\n",
       "      <td>129</td>\n",
       "      <td>144</td>\n",
       "      <td>15</td>\n",
       "      <td>129</td>\n",
       "      <td>139</td>\n",
       "      <td>15</td>\n",
       "      <td>124</td>\n",
       "      <td>141</td>\n",
       "      <td>15</td>\n",
       "      <td>126</td>\n",
       "      <td>143</td>\n",
       "      <td>16</td>\n",
       "      <td>127</td>\n",
       "    </tr>\n",
       "  </tbody>\n",
       "</table>\n",
       "</div>"
      ],
      "text/plain": [
       "    행정구역 생활밀접업종 22-1전체점포수  22-1프랜차이즈점포수 22-1일반점포수 22-2전체점포수  22-2프랜차이즈점포수  \\\n",
       "0  청운효자동     전체       296             5       291       298             5   \n",
       "1    사직동     전체       991           121       870       996           118   \n",
       "2    삼청동     전체       257            28       229       259            29   \n",
       "3    부암동     전체       132            15       117       137            15   \n",
       "4    평창동     전체       144            15       129       144            15   \n",
       "\n",
       "  22-2일반점포수 22-3전체점포수  22-3프랜차이즈점포수 22-3일반점포수 22-4전체점포수  22-4프랜차이즈점포수  \\\n",
       "0       293       305             6       299       308             6   \n",
       "1       878       994           120       874     1,001           121   \n",
       "2       230       259            30       229       266            30   \n",
       "3       122       135            14       121       136            14   \n",
       "4       129       139            15       124       141            15   \n",
       "\n",
       "  22-4일반점포수 23-1전체점포수  23-1프랜차이즈점포수 23-1일반점포수  \n",
       "0       302       312             6       306  \n",
       "1       880       995           117       878  \n",
       "2       236       270            29       241  \n",
       "3       122       133            13       120  \n",
       "4       126       143            16       127  "
      ]
     },
     "execution_count": 18,
     "metadata": {},
     "output_type": "execute_result"
    }
   ],
   "source": [
    "num_store = pd.read_csv('C:/Users/장희중학부재학통계학과/OneDrive - 고려대학교/바탕 화면/hj/공모전/2023 빅콘테스트/data/서울시_상권분석데이터/행정동별_점포수_1.csv', encoding = 'cp949')\n",
    "num_store.head()"
   ]
  },
  {
   "cell_type": "code",
   "execution_count": null,
   "metadata": {},
   "outputs": [
    {
     "name": "stdout",
     "output_type": "stream",
     "text": [
      "         DATA_CRTR_YM            LT_UNQ_NO  STDG_EMD_CD    ADM_CD ADM_NM  \\\n",
      "0              202201  1111010100100030100     11110101  11010720  청운효자동   \n",
      "1              202201  1111010100100480000     11110101  11010720  청운효자동   \n",
      "2              202201  1111010100100590001     11110101  11010720  청운효자동   \n",
      "3              202201  1111010100100590005     11110101  11010720  청운효자동   \n",
      "4              202201  1111010100100690000     11110101  11010720  청운효자동   \n",
      "...               ...                  ...          ...       ...    ...   \n",
      "1172897        202302  1130510100100830004     11305101  11090710    송중동   \n",
      "1172898        202302  1135010300107450000     11350103  11110560   공릉2동   \n",
      "1172899        202302  1150010300103400017     11500103  11160630   화곡8동   \n",
      "1172900        202302  1144012700116070000     11440127  11140740    상암동   \n",
      "1172901        202302  1126010400100770063     11260104  11070640    묵1동   \n",
      "\n",
      "        INDUSTRY_CD  SLS_GRD 생활밀접업종  \n",
      "0               A03      4.0     전체  \n",
      "1               A01      2.0  한식음식점  \n",
      "2               A11      3.0  중식음식점  \n",
      "3               A03      2.0     전체  \n",
      "4               A01      2.0  한식음식점  \n",
      "...             ...      ...    ...  \n",
      "1172897         A03      NaN     전체  \n",
      "1172898         A13      NaN  일식음식점  \n",
      "1172899         A06      NaN  분식전문점  \n",
      "1172900         A03      NaN     전체  \n",
      "1172901         A03      NaN     전체  \n",
      "\n",
      "[1172902 rows x 8 columns]\n"
     ]
    }
   ],
   "source": [
    "# 업종 코드와 업종명을 매핑하는 딕셔너리 생성\n",
    "industry_mapping = {\n",
    "    'A01': '한식음식점',\n",
    "    'A02': '치킨전문점',\n",
    "    'A03': '전체',\n",
    "    'A10': '전체',\n",
    "    'A04': '제과점',\n",
    "    'A05': '패스트푸드점',\n",
    "    'A07': '패스트푸드점',\n",
    "    'A06': '분식전문점',\n",
    "    'A08': '커피-음료',\n",
    "    'A09': '커피-음료',\n",
    "    'A15': '커피-음료',\n",
    "    'A11': '중식음식점',\n",
    "    'A12': '호프-간이주점',\n",
    "    'A13': '일식음식점',\n",
    "    'A14': '양식음식점'\n",
    "}\n",
    "\n",
    "# '생활밀접업종' 열 추가 및 매핑\n",
    "raw_in_match['생활밀접업종'] = raw_in_match['INDUSTRY_CD'].map(industry_mapping)\n",
    "\n",
    "print(raw_in_match)\n"
   ]
  },
  {
   "cell_type": "code",
   "execution_count": null,
   "metadata": {},
   "outputs": [],
   "source": [
    "# 분기별로 merge\n",
    "raw_22_1 = pd.merge(raw_in_match[raw_in_match['DATA_CRTR_YM'] <= 202203], num_store[['행정구역', '생활밀접업종', '22-1전체점포수', '22-1프랜차이즈점포수', '22-1일반점포수']], left_on=['ADM_NM', '생활밀접업종'], right_on = ['행정구역', '생활밀접업종'], how='left')\n",
    "raw_22_2 = pd.merge(raw_in_match[(raw_in_match['DATA_CRTR_YM'] <= 202206) & (raw_in_match['DATA_CRTR_YM'] > 202203)], num_store[['행정구역', '생활밀접업종', '22-2전체점포수', '22-2프랜차이즈점포수', '22-2일반점포수']], left_on=['ADM_NM', '생활밀접업종'], right_on = ['행정구역', '생활밀접업종'], how='left')\n",
    "raw_22_3 = pd.merge(raw_in_match[(raw_in_match['DATA_CRTR_YM'] <= 202209) & (raw_in_match['DATA_CRTR_YM'] > 202206)], num_store[['행정구역', '생활밀접업종', '22-3전체점포수', '22-3프랜차이즈점포수', '22-3일반점포수']], left_on=['ADM_NM', '생활밀접업종'], right_on = ['행정구역', '생활밀접업종'], how='left')\n",
    "raw_22_4 = pd.merge(raw_in_match[(raw_in_match['DATA_CRTR_YM'] <= 202212) & (raw_in_match['DATA_CRTR_YM'] > 202209)], num_store[['행정구역', '생활밀접업종', '22-4전체점포수', '22-4프랜차이즈점포수', '22-4일반점포수']], left_on=['ADM_NM', '생활밀접업종'], right_on = ['행정구역', '생활밀접업종'], how='left')\n",
    "raw_23_1 = pd.merge(raw_in_match[(raw_in_match['DATA_CRTR_YM'] <= 202302) & (raw_in_match['DATA_CRTR_YM'] > 202212)], num_store[['행정구역', '생활밀접업종', '23-1전체점포수', '23-1프랜차이즈점포수', '23-1일반점포수']], left_on=['ADM_NM', '생활밀접업종'], right_on = ['행정구역', '생활밀접업종'], how='left')"
   ]
  },
  {
   "cell_type": "code",
   "execution_count": null,
   "metadata": {},
   "outputs": [],
   "source": [
    "# 열 이름 통일\n",
    "## 22-1\n",
    "col_lst = list(raw_22_1.columns)\n",
    "col_lst[9] = '전체점포수'\n",
    "col_lst[10] = '프랜차이즈점포수'\n",
    "col_lst[11] = '일반점포수'\n",
    "raw_22_1.columns = col_lst\n",
    "## 22-2\n",
    "col_lst = list(raw_22_2.columns)\n",
    "col_lst[9] = '전체점포수'\n",
    "col_lst[10] = '프랜차이즈점포수'\n",
    "col_lst[11] = '일반점포수'\n",
    "raw_22_2.columns = col_lst\n",
    "## 22-3\n",
    "col_lst = list(raw_22_3.columns)\n",
    "col_lst[9] = '전체점포수'\n",
    "col_lst[10] = '프랜차이즈점포수'\n",
    "col_lst[11] = '일반점포수'\n",
    "raw_22_3.columns = col_lst\n",
    "## 22-4\n",
    "col_lst = list(raw_22_4.columns)\n",
    "col_lst[9] = '전체점포수'\n",
    "col_lst[10] = '프랜차이즈점포수'\n",
    "col_lst[11] = '일반점포수'\n",
    "raw_22_4.columns = col_lst\n",
    "## 23-1\n",
    "col_lst = list(raw_23_1.columns)\n",
    "col_lst[9] = '전체점포수'\n",
    "col_lst[10] = '프랜차이즈점포수'\n",
    "col_lst[11] = '일반점포수'\n",
    "raw_23_1.columns = col_lst"
   ]
  },
  {
   "cell_type": "code",
   "execution_count": null,
   "metadata": {},
   "outputs": [],
   "source": [
    "# 분기별 데이터 하나로 합치기\n",
    "raw_in_match = pd.concat([raw_22_1, raw_22_2, raw_22_3, raw_22_4, raw_23_1])\n",
    "raw_in_match.drop(columns='행정구역', axis=1, inplace=True)"
   ]
  },
  {
   "cell_type": "code",
   "execution_count": null,
   "metadata": {},
   "outputs": [
    {
     "name": "stdout",
     "output_type": "stream",
     "text": [
      "<class 'pandas.core.frame.DataFrame'>\n",
      "Int64Index: 1172902 entries, 0 to 19969\n",
      "Data columns (total 11 columns):\n",
      " #   Column        Non-Null Count    Dtype  \n",
      "---  ------        --------------    -----  \n",
      " 0   DATA_CRTR_YM  1172902 non-null  int64  \n",
      " 1   LT_UNQ_NO     1172902 non-null  int64  \n",
      " 2   STDG_EMD_CD   1172902 non-null  int64  \n",
      " 3   ADM_CD        1172902 non-null  int64  \n",
      " 4   ADM_NM        1172902 non-null  object \n",
      " 5   INDUSTRY_CD   1172902 non-null  object \n",
      " 6   SLS_GRD       1152932 non-null  float64\n",
      " 7   생활밀접업종        1172902 non-null  object \n",
      " 8   전체점포수         1172902 non-null  object \n",
      " 9   프랜차이즈점포수      1172902 non-null  int64  \n",
      " 10  일반점포수         1172902 non-null  object \n",
      "dtypes: float64(1), int64(5), object(5)\n",
      "memory usage: 107.4+ MB\n"
     ]
    }
   ],
   "source": [
    "raw_in_match.info()"
   ]
  },
  {
   "cell_type": "markdown",
   "metadata": {},
   "source": [
    "##### A03, A10 비율 곱하기"
   ]
  },
  {
   "cell_type": "code",
   "execution_count": null,
   "metadata": {},
   "outputs": [],
   "source": [
    "# '전체점포수'와 '일반점포수' 열에서 쉼표(,) 제거하고 문자열을 숫자로 변환\n",
    "raw_in_match['전체점포수'] = raw_in_match['전체점포수'].str.replace(',', '').astype(int)\n",
    "raw_in_match['일반점포수'] = raw_in_match['일반점포수'].str.replace(',', '').astype(int)\n",
    "\n",
    "# 비율을 적용할 조건을 설정합니다.\n",
    "condition_A03 = (raw_in_match['INDUSTRY_CD'] == 'A03')\n",
    "condition_A10 = (raw_in_match['INDUSTRY_CD'] == 'A10')\n",
    "\n",
    "# 데이터프레임에 조건을 적용하여 비율을 계산합니다.\n",
    "raw_in_match.loc[condition_A03, ['전체점포수', '프랜차이즈점포수', '일반점포수']] *= 0.3\n",
    "raw_in_match.loc[condition_A10, ['전체점포수', '프랜차이즈점포수', '일반점포수']] *= 0.036\n"
   ]
  },
  {
   "cell_type": "code",
   "execution_count": null,
   "metadata": {},
   "outputs": [
    {
     "data": {
      "text/plain": [
       "DATA_CRTR_YM        0\n",
       "LT_UNQ_NO           0\n",
       "STDG_EMD_CD         0\n",
       "ADM_CD              0\n",
       "ADM_NM              0\n",
       "INDUSTRY_CD         0\n",
       "SLS_GRD         19970\n",
       "생활밀접업종              0\n",
       "전체점포수               0\n",
       "프랜차이즈점포수            0\n",
       "일반점포수               0\n",
       "dtype: int64"
      ]
     },
     "execution_count": 25,
     "metadata": {},
     "output_type": "execute_result"
    }
   ],
   "source": [
    "raw_in_match.isna().sum()"
   ]
  },
  {
   "cell_type": "markdown",
   "metadata": {},
   "source": [
    "#### 인구수 데이터 합치기"
   ]
  },
  {
   "cell_type": "code",
   "execution_count": null,
   "metadata": {},
   "outputs": [
    {
     "data": {
      "text/html": [
       "<div>\n",
       "<style scoped>\n",
       "    .dataframe tbody tr th:only-of-type {\n",
       "        vertical-align: middle;\n",
       "    }\n",
       "\n",
       "    .dataframe tbody tr th {\n",
       "        vertical-align: top;\n",
       "    }\n",
       "\n",
       "    .dataframe thead th {\n",
       "        text-align: right;\n",
       "    }\n",
       "</style>\n",
       "<table border=\"1\" class=\"dataframe\">\n",
       "  <thead>\n",
       "    <tr style=\"text-align: right;\">\n",
       "      <th></th>\n",
       "      <th>행정구역</th>\n",
       "      <th>22-1길단위유동인구</th>\n",
       "      <th>22-1주거인구</th>\n",
       "      <th>22-1직장인구</th>\n",
       "      <th>22-2길단위유동인구</th>\n",
       "      <th>22-2주거인구</th>\n",
       "      <th>22-2직장인구</th>\n",
       "      <th>22-3길단위유동인구</th>\n",
       "      <th>22-3주거인구</th>\n",
       "      <th>22-3직장인구</th>\n",
       "      <th>22-4길단위유동인구</th>\n",
       "      <th>22-4주거인구</th>\n",
       "      <th>22-4직장인구</th>\n",
       "      <th>23-1길단위유동인구</th>\n",
       "      <th>23-1주거인구</th>\n",
       "      <th>23-1직장인구</th>\n",
       "    </tr>\n",
       "  </thead>\n",
       "  <tbody>\n",
       "    <tr>\n",
       "      <th>0</th>\n",
       "      <td>청운효자동</td>\n",
       "      <td>14,929</td>\n",
       "      <td>51</td>\n",
       "      <td>44</td>\n",
       "      <td>16,209</td>\n",
       "      <td>51</td>\n",
       "      <td>44</td>\n",
       "      <td>14,843</td>\n",
       "      <td>51</td>\n",
       "      <td>44</td>\n",
       "      <td>15,269</td>\n",
       "      <td>51</td>\n",
       "      <td>44</td>\n",
       "      <td>14,633</td>\n",
       "      <td>54</td>\n",
       "      <td>44</td>\n",
       "    </tr>\n",
       "    <tr>\n",
       "      <th>1</th>\n",
       "      <td>사직동</td>\n",
       "      <td>29,283</td>\n",
       "      <td>82</td>\n",
       "      <td>412</td>\n",
       "      <td>34,630</td>\n",
       "      <td>82</td>\n",
       "      <td>412</td>\n",
       "      <td>33,738</td>\n",
       "      <td>82</td>\n",
       "      <td>412</td>\n",
       "      <td>34,815</td>\n",
       "      <td>82</td>\n",
       "      <td>412</td>\n",
       "      <td>33,445</td>\n",
       "      <td>73</td>\n",
       "      <td>412</td>\n",
       "    </tr>\n",
       "    <tr>\n",
       "      <th>2</th>\n",
       "      <td>삼청동</td>\n",
       "      <td>5,905</td>\n",
       "      <td>19</td>\n",
       "      <td>42</td>\n",
       "      <td>6,885</td>\n",
       "      <td>19</td>\n",
       "      <td>42</td>\n",
       "      <td>6,302</td>\n",
       "      <td>19</td>\n",
       "      <td>42</td>\n",
       "      <td>6,649</td>\n",
       "      <td>19</td>\n",
       "      <td>42</td>\n",
       "      <td>6,696</td>\n",
       "      <td>19</td>\n",
       "      <td>42</td>\n",
       "    </tr>\n",
       "    <tr>\n",
       "      <th>3</th>\n",
       "      <td>부암동</td>\n",
       "      <td>5,778</td>\n",
       "      <td>45</td>\n",
       "      <td>19</td>\n",
       "      <td>6,011</td>\n",
       "      <td>45</td>\n",
       "      <td>19</td>\n",
       "      <td>5,468</td>\n",
       "      <td>45</td>\n",
       "      <td>19</td>\n",
       "      <td>5,248</td>\n",
       "      <td>45</td>\n",
       "      <td>19</td>\n",
       "      <td>4,970</td>\n",
       "      <td>44</td>\n",
       "      <td>19</td>\n",
       "    </tr>\n",
       "    <tr>\n",
       "      <th>4</th>\n",
       "      <td>평창동</td>\n",
       "      <td>987</td>\n",
       "      <td>22</td>\n",
       "      <td>28</td>\n",
       "      <td>986</td>\n",
       "      <td>22</td>\n",
       "      <td>28</td>\n",
       "      <td>975</td>\n",
       "      <td>22</td>\n",
       "      <td>28</td>\n",
       "      <td>1,019</td>\n",
       "      <td>22</td>\n",
       "      <td>28</td>\n",
       "      <td>989</td>\n",
       "      <td>21</td>\n",
       "      <td>28</td>\n",
       "    </tr>\n",
       "  </tbody>\n",
       "</table>\n",
       "</div>"
      ],
      "text/plain": [
       "    행정구역 22-1길단위유동인구  22-1주거인구 22-1직장인구 22-2길단위유동인구  22-2주거인구 22-2직장인구  \\\n",
       "0  청운효자동      14,929        51       44      16,209        51       44   \n",
       "1    사직동      29,283        82      412      34,630        82      412   \n",
       "2    삼청동       5,905        19       42       6,885        19       42   \n",
       "3    부암동       5,778        45       19       6,011        45       19   \n",
       "4    평창동         987        22       28         986        22       28   \n",
       "\n",
       "  22-3길단위유동인구  22-3주거인구 22-3직장인구 22-4길단위유동인구  22-4주거인구 22-4직장인구 23-1길단위유동인구  \\\n",
       "0      14,843        51       44      15,269        51       44      14,633   \n",
       "1      33,738        82      412      34,815        82      412      33,445   \n",
       "2       6,302        19       42       6,649        19       42       6,696   \n",
       "3       5,468        45       19       5,248        45       19       4,970   \n",
       "4         975        22       28       1,019        22       28         989   \n",
       "\n",
       "   23-1주거인구 23-1직장인구  \n",
       "0        54       44  \n",
       "1        73      412  \n",
       "2        19       42  \n",
       "3        44       19  \n",
       "4        21       28  "
      ]
     },
     "execution_count": 26,
     "metadata": {},
     "output_type": "execute_result"
    }
   ],
   "source": [
    "num_pop = pd.read_csv('C:/Users/장희중학부재학통계학과/OneDrive - 고려대학교/바탕 화면/hj/공모전/2023 빅콘테스트/data/서울시_상권분석데이터/행정동별_인구수_1.csv', encoding='cp949')\n",
    "num_pop.head()"
   ]
  },
  {
   "cell_type": "code",
   "execution_count": null,
   "metadata": {},
   "outputs": [],
   "source": [
    "# 분기별로 merge\n",
    "raw_22_1 = pd.merge(raw_in_match[raw_in_match['DATA_CRTR_YM'] <= 202203], num_pop[['행정구역', '22-1길단위유동인구', '22-1주거인구', '22-1직장인구']], left_on=['ADM_NM'], right_on = ['행정구역'], how='left')\n",
    "raw_22_2 = pd.merge(raw_in_match[(raw_in_match['DATA_CRTR_YM'] <= 202206) & (raw_in_match['DATA_CRTR_YM'] > 202203)], num_pop[['행정구역', '22-2길단위유동인구', '22-2주거인구', '22-2직장인구']], left_on=['ADM_NM'], right_on = ['행정구역'], how='left')\n",
    "raw_22_3 = pd.merge(raw_in_match[(raw_in_match['DATA_CRTR_YM'] <= 202209) & (raw_in_match['DATA_CRTR_YM'] > 202206)], num_pop[['행정구역', '22-3길단위유동인구', '22-3주거인구', '22-3직장인구']], left_on=['ADM_NM'], right_on = ['행정구역'], how='left')\n",
    "raw_22_4 = pd.merge(raw_in_match[(raw_in_match['DATA_CRTR_YM'] <= 202212) & (raw_in_match['DATA_CRTR_YM'] > 202209)], num_pop[['행정구역', '22-4길단위유동인구', '22-4주거인구', '22-4직장인구']], left_on=['ADM_NM'], right_on = ['행정구역'], how='left')\n",
    "raw_23_1 = pd.merge(raw_in_match[(raw_in_match['DATA_CRTR_YM'] <= 202302) & (raw_in_match['DATA_CRTR_YM'] > 202212)], num_pop[['행정구역', '23-1길단위유동인구', '23-1주거인구', '23-1직장인구']], left_on=['ADM_NM'], right_on = ['행정구역'], how='left')"
   ]
  },
  {
   "cell_type": "code",
   "execution_count": null,
   "metadata": {},
   "outputs": [],
   "source": [
    "# 열 이름 통일\n",
    "## 22-1\n",
    "col_lst = list(raw_22_1.columns)\n",
    "col_lst[12] = '길단위유동인구'\n",
    "col_lst[13] = '주거인구'\n",
    "col_lst[14] = '직장인구'\n",
    "raw_22_1.columns = col_lst\n",
    "## 22-2\n",
    "col_lst = list(raw_22_2.columns)\n",
    "col_lst[12] = '길단위유동인구'\n",
    "col_lst[13] = '주거인구'\n",
    "col_lst[14] = '직장인구'\n",
    "raw_22_2.columns = col_lst\n",
    "## 22-3\n",
    "col_lst = list(raw_22_3.columns)\n",
    "col_lst[12] = '길단위유동인구'\n",
    "col_lst[13] = '주거인구'\n",
    "col_lst[14] = '직장인구'\n",
    "raw_22_3.columns = col_lst\n",
    "## 22-4\n",
    "col_lst = list(raw_22_4.columns)\n",
    "col_lst[12] = '길단위유동인구'\n",
    "col_lst[13] = '주거인구'\n",
    "col_lst[14] = '직장인구'\n",
    "raw_22_4.columns = col_lst\n",
    "## 23-1\n",
    "col_lst = list(raw_23_1.columns)\n",
    "col_lst[12] = '길단위유동인구'\n",
    "col_lst[13] = '주거인구'\n",
    "col_lst[14] = '직장인구'\n",
    "raw_23_1.columns = col_lst"
   ]
  },
  {
   "cell_type": "code",
   "execution_count": null,
   "metadata": {},
   "outputs": [],
   "source": [
    "# 분기별 데이터 하나로 합치기\n",
    "raw_in_match = pd.concat([raw_22_1, raw_22_2, raw_22_3, raw_22_4, raw_23_1])\n",
    "raw_in_match.drop(columns='행정구역', axis=1, inplace=True)"
   ]
  },
  {
   "cell_type": "code",
   "execution_count": null,
   "metadata": {},
   "outputs": [],
   "source": [
    "# '길단위유동인구'와 '직장인구' 열에서 쉼표(,) 제거하고 문자열을 숫자로 변환\n",
    "raw_in_match['길단위유동인구'] = raw_in_match['길단위유동인구'].str.replace(',', '').astype(int)\n",
    "raw_in_match['직장인구'] = raw_in_match['직장인구'].str.replace(',', '').astype(int)"
   ]
  },
  {
   "cell_type": "code",
   "execution_count": null,
   "metadata": {},
   "outputs": [
    {
     "name": "stdout",
     "output_type": "stream",
     "text": [
      "<class 'pandas.core.frame.DataFrame'>\n",
      "Int64Index: 1172902 entries, 0 to 19969\n",
      "Data columns (total 14 columns):\n",
      " #   Column        Non-Null Count    Dtype  \n",
      "---  ------        --------------    -----  \n",
      " 0   DATA_CRTR_YM  1172902 non-null  int64  \n",
      " 1   LT_UNQ_NO     1172902 non-null  int64  \n",
      " 2   STDG_EMD_CD   1172902 non-null  int64  \n",
      " 3   ADM_CD        1172902 non-null  int64  \n",
      " 4   ADM_NM        1172902 non-null  object \n",
      " 5   INDUSTRY_CD   1172902 non-null  object \n",
      " 6   SLS_GRD       1152932 non-null  float64\n",
      " 7   생활밀접업종        1172902 non-null  object \n",
      " 8   전체점포수         1172902 non-null  float64\n",
      " 9   프랜차이즈점포수      1172902 non-null  float64\n",
      " 10  일반점포수         1172902 non-null  float64\n",
      " 11  길단위유동인구       1172902 non-null  int32  \n",
      " 12  주거인구          1172902 non-null  int64  \n",
      " 13  직장인구          1172902 non-null  int32  \n",
      "dtypes: float64(4), int32(2), int64(5), object(3)\n",
      "memory usage: 125.3+ MB\n"
     ]
    }
   ],
   "source": [
    "raw_in_match.info()"
   ]
  },
  {
   "cell_type": "markdown",
   "metadata": {},
   "source": [
    "#### 개폐업수 합치기"
   ]
  },
  {
   "cell_type": "code",
   "execution_count": null,
   "metadata": {},
   "outputs": [
    {
     "data": {
      "text/html": [
       "<div>\n",
       "<style scoped>\n",
       "    .dataframe tbody tr th:only-of-type {\n",
       "        vertical-align: middle;\n",
       "    }\n",
       "\n",
       "    .dataframe tbody tr th {\n",
       "        vertical-align: top;\n",
       "    }\n",
       "\n",
       "    .dataframe thead th {\n",
       "        text-align: right;\n",
       "    }\n",
       "</style>\n",
       "<table border=\"1\" class=\"dataframe\">\n",
       "  <thead>\n",
       "    <tr style=\"text-align: right;\">\n",
       "      <th></th>\n",
       "      <th>행정구역</th>\n",
       "      <th>생활밀접업종</th>\n",
       "      <th>22-1개업수</th>\n",
       "      <th>22-1폐업수</th>\n",
       "      <th>22-1개업률</th>\n",
       "      <th>22-1폐업률</th>\n",
       "      <th>22-2개업수</th>\n",
       "      <th>22-2폐업수</th>\n",
       "      <th>22-2개업률</th>\n",
       "      <th>22-2폐업률</th>\n",
       "      <th>...</th>\n",
       "      <th>22-3개업률</th>\n",
       "      <th>22-3폐업률</th>\n",
       "      <th>22-4개업수</th>\n",
       "      <th>22-4폐업수</th>\n",
       "      <th>22-4개업률</th>\n",
       "      <th>22-4폐업률</th>\n",
       "      <th>23-1개업수</th>\n",
       "      <th>23-1폐업수</th>\n",
       "      <th>23-1개업률</th>\n",
       "      <th>23-1폐업률</th>\n",
       "    </tr>\n",
       "  </thead>\n",
       "  <tbody>\n",
       "    <tr>\n",
       "      <th>0</th>\n",
       "      <td>청운효자동</td>\n",
       "      <td>제과점</td>\n",
       "      <td>3</td>\n",
       "      <td>0</td>\n",
       "      <td>13.0</td>\n",
       "      <td>0.0</td>\n",
       "      <td>0</td>\n",
       "      <td>0</td>\n",
       "      <td>0.0</td>\n",
       "      <td>0.0</td>\n",
       "      <td>...</td>\n",
       "      <td>0.0</td>\n",
       "      <td>9.5</td>\n",
       "      <td>0</td>\n",
       "      <td>2</td>\n",
       "      <td>0.0</td>\n",
       "      <td>10.5</td>\n",
       "      <td>1</td>\n",
       "      <td>0</td>\n",
       "      <td>5.0</td>\n",
       "      <td>0.0</td>\n",
       "    </tr>\n",
       "    <tr>\n",
       "      <th>1</th>\n",
       "      <td>사직동</td>\n",
       "      <td>제과점</td>\n",
       "      <td>1</td>\n",
       "      <td>0</td>\n",
       "      <td>3.1</td>\n",
       "      <td>0.0</td>\n",
       "      <td>0</td>\n",
       "      <td>0</td>\n",
       "      <td>0.0</td>\n",
       "      <td>0.0</td>\n",
       "      <td>...</td>\n",
       "      <td>3.1</td>\n",
       "      <td>3.1</td>\n",
       "      <td>0</td>\n",
       "      <td>0</td>\n",
       "      <td>0.0</td>\n",
       "      <td>0.0</td>\n",
       "      <td>0</td>\n",
       "      <td>0</td>\n",
       "      <td>0.0</td>\n",
       "      <td>0.0</td>\n",
       "    </tr>\n",
       "    <tr>\n",
       "      <th>2</th>\n",
       "      <td>삼청동</td>\n",
       "      <td>제과점</td>\n",
       "      <td>0</td>\n",
       "      <td>0</td>\n",
       "      <td>0.0</td>\n",
       "      <td>0.0</td>\n",
       "      <td>0</td>\n",
       "      <td>1</td>\n",
       "      <td>0.0</td>\n",
       "      <td>7.1</td>\n",
       "      <td>...</td>\n",
       "      <td>7.7</td>\n",
       "      <td>15.4</td>\n",
       "      <td>2</td>\n",
       "      <td>0</td>\n",
       "      <td>13.3</td>\n",
       "      <td>0.0</td>\n",
       "      <td>0</td>\n",
       "      <td>0</td>\n",
       "      <td>0.0</td>\n",
       "      <td>0.0</td>\n",
       "    </tr>\n",
       "    <tr>\n",
       "      <th>3</th>\n",
       "      <td>부암동</td>\n",
       "      <td>제과점</td>\n",
       "      <td>1</td>\n",
       "      <td>0</td>\n",
       "      <td>14.3</td>\n",
       "      <td>0.0</td>\n",
       "      <td>0</td>\n",
       "      <td>0</td>\n",
       "      <td>0.0</td>\n",
       "      <td>0.0</td>\n",
       "      <td>...</td>\n",
       "      <td>12.5</td>\n",
       "      <td>0.0</td>\n",
       "      <td>0</td>\n",
       "      <td>0</td>\n",
       "      <td>0.0</td>\n",
       "      <td>0.0</td>\n",
       "      <td>0</td>\n",
       "      <td>1</td>\n",
       "      <td>0.0</td>\n",
       "      <td>14.3</td>\n",
       "    </tr>\n",
       "    <tr>\n",
       "      <th>4</th>\n",
       "      <td>평창동</td>\n",
       "      <td>제과점</td>\n",
       "      <td>0</td>\n",
       "      <td>0</td>\n",
       "      <td>0.0</td>\n",
       "      <td>0.0</td>\n",
       "      <td>0</td>\n",
       "      <td>0</td>\n",
       "      <td>0.0</td>\n",
       "      <td>0.0</td>\n",
       "      <td>...</td>\n",
       "      <td>0.0</td>\n",
       "      <td>0.0</td>\n",
       "      <td>0</td>\n",
       "      <td>1</td>\n",
       "      <td>0.0</td>\n",
       "      <td>20.0</td>\n",
       "      <td>0</td>\n",
       "      <td>0</td>\n",
       "      <td>0.0</td>\n",
       "      <td>0.0</td>\n",
       "    </tr>\n",
       "  </tbody>\n",
       "</table>\n",
       "<p>5 rows × 22 columns</p>\n",
       "</div>"
      ],
      "text/plain": [
       "    행정구역 생활밀접업종  22-1개업수  22-1폐업수  22-1개업률  22-1폐업률  22-2개업수  22-2폐업수  \\\n",
       "0  청운효자동    제과점        3        0     13.0      0.0        0        0   \n",
       "1    사직동    제과점        1        0      3.1      0.0        0        0   \n",
       "2    삼청동    제과점        0        0      0.0      0.0        0        1   \n",
       "3    부암동    제과점        1        0     14.3      0.0        0        0   \n",
       "4    평창동    제과점        0        0      0.0      0.0        0        0   \n",
       "\n",
       "   22-2개업률  22-2폐업률  ...  22-3개업률  22-3폐업률  22-4개업수  22-4폐업수  22-4개업률  \\\n",
       "0      0.0      0.0  ...      0.0      9.5        0        2      0.0   \n",
       "1      0.0      0.0  ...      3.1      3.1        0        0      0.0   \n",
       "2      0.0      7.1  ...      7.7     15.4        2        0     13.3   \n",
       "3      0.0      0.0  ...     12.5      0.0        0        0      0.0   \n",
       "4      0.0      0.0  ...      0.0      0.0        0        1      0.0   \n",
       "\n",
       "   22-4폐업률  23-1개업수  23-1폐업수  23-1개업률  23-1폐업률  \n",
       "0     10.5        1        0      5.0      0.0  \n",
       "1      0.0        0        0      0.0      0.0  \n",
       "2      0.0        0        0      0.0      0.0  \n",
       "3      0.0        0        1      0.0     14.3  \n",
       "4     20.0        0        0      0.0      0.0  \n",
       "\n",
       "[5 rows x 22 columns]"
      ]
     },
     "execution_count": 32,
     "metadata": {},
     "output_type": "execute_result"
    }
   ],
   "source": [
    "open_close = pd.read_csv('C:/Users/장희중학부재학통계학과/OneDrive - 고려대학교/바탕 화면/hj/공모전/2023 빅콘테스트/data/서울시_상권분석데이터/행정동별_개폐업수_1.csv', encoding='cp949')\n",
    "open_close.head()"
   ]
  },
  {
   "cell_type": "code",
   "execution_count": null,
   "metadata": {},
   "outputs": [],
   "source": [
    "# 분기별로 merge\n",
    "raw_22_1 = pd.merge(raw_in_match[raw_in_match['DATA_CRTR_YM'] <= 202203], open_close[['행정구역', '생활밀접업종', '22-1개업수', '22-1폐업수', '22-1개업률', '22-1폐업률']], left_on=['ADM_NM', '생활밀접업종'], right_on = ['행정구역', '생활밀접업종'], how='left')\n",
    "raw_22_2 = pd.merge(raw_in_match[(raw_in_match['DATA_CRTR_YM'] <= 202206) & (raw_in_match['DATA_CRTR_YM'] > 202203)], open_close[['행정구역', '생활밀접업종', '22-2개업수', '22-2폐업수', '22-2개업률', '22-2폐업률']], left_on=['ADM_NM', '생활밀접업종'], right_on = ['행정구역', '생활밀접업종'], how='left')\n",
    "raw_22_3 = pd.merge(raw_in_match[(raw_in_match['DATA_CRTR_YM'] <= 202209) & (raw_in_match['DATA_CRTR_YM'] > 202206)], open_close[['행정구역', '생활밀접업종', '22-3개업수', '22-3폐업수', '22-3개업률', '22-3폐업률']], left_on=['ADM_NM', '생활밀접업종'], right_on = ['행정구역', '생활밀접업종'], how='left')\n",
    "raw_22_4 = pd.merge(raw_in_match[(raw_in_match['DATA_CRTR_YM'] <= 202212) & (raw_in_match['DATA_CRTR_YM'] > 202209)], open_close[['행정구역', '생활밀접업종', '22-4개업수', '22-4폐업수', '22-4개업률', '22-4폐업률']], left_on=['ADM_NM', '생활밀접업종'], right_on = ['행정구역', '생활밀접업종'], how='left')\n",
    "raw_23_1 = pd.merge(raw_in_match[(raw_in_match['DATA_CRTR_YM'] <= 202302) & (raw_in_match['DATA_CRTR_YM'] > 202212)], open_close[['행정구역', '생활밀접업종', '23-1개업수', '23-1폐업수', '23-1개업률', '23-1폐업률']], left_on=['ADM_NM', '생활밀접업종'], right_on = ['행정구역', '생활밀접업종'], how='left')"
   ]
  },
  {
   "cell_type": "code",
   "execution_count": null,
   "metadata": {},
   "outputs": [],
   "source": [
    "# 열 이름 통일\n",
    "## 22-1\n",
    "col_lst = list(raw_22_1.columns)\n",
    "col_lst[15] = '개업수'\n",
    "col_lst[16] = '폐업수'\n",
    "col_lst[17] = '개업률'\n",
    "col_lst[18] = '폐업률'\n",
    "raw_22_1.columns = col_lst\n",
    "## 22-2\n",
    "col_lst = list(raw_22_2.columns)\n",
    "col_lst[15] = '개업수'\n",
    "col_lst[16] = '폐업수'\n",
    "col_lst[17] = '개업률'\n",
    "col_lst[18] = '폐업률'\n",
    "raw_22_2.columns = col_lst\n",
    "## 22-3\n",
    "col_lst = list(raw_22_3.columns)\n",
    "col_lst[15] = '개업수'\n",
    "col_lst[16] = '폐업수'\n",
    "col_lst[17] = '개업률'\n",
    "col_lst[18] = '폐업률'\n",
    "raw_22_3.columns = col_lst\n",
    "## 22-4\n",
    "col_lst = list(raw_22_4.columns)\n",
    "col_lst[15] = '개업수'\n",
    "col_lst[16] = '폐업수'\n",
    "col_lst[17] = '개업률'\n",
    "col_lst[18] = '폐업률'\n",
    "raw_22_4.columns = col_lst\n",
    "## 23-1\n",
    "col_lst = list(raw_23_1.columns)\n",
    "col_lst[15] = '개업수'\n",
    "col_lst[16] = '폐업수'\n",
    "col_lst[17] = '개업률'\n",
    "col_lst[18] = '폐업률'\n",
    "raw_23_1.columns = col_lst"
   ]
  },
  {
   "cell_type": "code",
   "execution_count": null,
   "metadata": {},
   "outputs": [],
   "source": [
    "# 분기별 데이터 하나로 합치기\n",
    "raw_in_match = pd.concat([raw_22_1, raw_22_2, raw_22_3, raw_22_4, raw_23_1])\n",
    "raw_in_match.drop(columns='행정구역', axis=1, inplace=True)"
   ]
  },
  {
   "cell_type": "code",
   "execution_count": null,
   "metadata": {},
   "outputs": [],
   "source": [
    "# 비율을 적용할 조건을 설정합니다.\n",
    "condition_A03 = (raw_in_match['INDUSTRY_CD'] == 'A03')\n",
    "condition_A10 = (raw_in_match['INDUSTRY_CD'] == 'A10')\n",
    "\n",
    "# 데이터프레임에 조건을 적용하여 비율을 계산합니다.\n",
    "raw_in_match.loc[condition_A03, ['개업수', '폐업수', '개업률', '폐업률']] *= 0.3\n",
    "raw_in_match.loc[condition_A10, ['개업수', '폐업수', '개업률', '폐업률']] *= 0.036"
   ]
  },
  {
   "cell_type": "code",
   "execution_count": null,
   "metadata": {},
   "outputs": [
    {
     "name": "stdout",
     "output_type": "stream",
     "text": [
      "<class 'pandas.core.frame.DataFrame'>\n",
      "Int64Index: 1172902 entries, 0 to 19969\n",
      "Data columns (total 18 columns):\n",
      " #   Column        Non-Null Count    Dtype  \n",
      "---  ------        --------------    -----  \n",
      " 0   DATA_CRTR_YM  1172902 non-null  int64  \n",
      " 1   LT_UNQ_NO     1172902 non-null  int64  \n",
      " 2   STDG_EMD_CD   1172902 non-null  int64  \n",
      " 3   ADM_CD        1172902 non-null  int64  \n",
      " 4   ADM_NM        1172902 non-null  object \n",
      " 5   INDUSTRY_CD   1172902 non-null  object \n",
      " 6   SLS_GRD       1152932 non-null  float64\n",
      " 7   생활밀접업종        1172902 non-null  object \n",
      " 8   전체점포수         1172902 non-null  float64\n",
      " 9   프랜차이즈점포수      1172902 non-null  float64\n",
      " 10  일반점포수         1172902 non-null  float64\n",
      " 11  길단위유동인구       1172902 non-null  int32  \n",
      " 12  주거인구          1172902 non-null  int64  \n",
      " 13  직장인구          1172902 non-null  int32  \n",
      " 14  개업수           1172902 non-null  float64\n",
      " 15  폐업수           1172902 non-null  float64\n",
      " 16  개업률           1172902 non-null  float64\n",
      " 17  폐업률           1172902 non-null  float64\n",
      "dtypes: float64(8), int32(2), int64(5), object(3)\n",
      "memory usage: 161.1+ MB\n"
     ]
    }
   ],
   "source": [
    "raw_in_match.info()"
   ]
  },
  {
   "cell_type": "markdown",
   "metadata": {},
   "source": [
    "#### 임대료 합치기"
   ]
  },
  {
   "cell_type": "code",
   "execution_count": null,
   "metadata": {},
   "outputs": [
    {
     "data": {
      "text/html": [
       "<div>\n",
       "<style scoped>\n",
       "    .dataframe tbody tr th:only-of-type {\n",
       "        vertical-align: middle;\n",
       "    }\n",
       "\n",
       "    .dataframe tbody tr th {\n",
       "        vertical-align: top;\n",
       "    }\n",
       "\n",
       "    .dataframe thead th {\n",
       "        text-align: right;\n",
       "    }\n",
       "</style>\n",
       "<table border=\"1\" class=\"dataframe\">\n",
       "  <thead>\n",
       "    <tr style=\"text-align: right;\">\n",
       "      <th></th>\n",
       "      <th>행정구역</th>\n",
       "      <th>22-1 전체</th>\n",
       "      <th>22-1 1층</th>\n",
       "      <th>22-1 1층 외</th>\n",
       "      <th>22-2 전체</th>\n",
       "      <th>22-2 1층</th>\n",
       "      <th>22-2 1층 외</th>\n",
       "      <th>22-3 전체</th>\n",
       "      <th>22-3 1층</th>\n",
       "      <th>22-3 1층 외</th>\n",
       "      <th>22-4 전체</th>\n",
       "      <th>22-4 1층</th>\n",
       "      <th>22-4 1층 외</th>\n",
       "      <th>23-1 전체</th>\n",
       "      <th>23-1 1층</th>\n",
       "      <th>23-1 1층 외</th>\n",
       "    </tr>\n",
       "  </thead>\n",
       "  <tbody>\n",
       "    <tr>\n",
       "      <th>0</th>\n",
       "      <td>청운효자동</td>\n",
       "      <td>129,755</td>\n",
       "      <td>181,103</td>\n",
       "      <td>78,407</td>\n",
       "      <td>147,878</td>\n",
       "      <td>212,258</td>\n",
       "      <td>83,498</td>\n",
       "      <td>142,725</td>\n",
       "      <td>195,183</td>\n",
       "      <td>90,268</td>\n",
       "      <td>155,797</td>\n",
       "      <td>224,849</td>\n",
       "      <td>86,744</td>\n",
       "      <td>151,256</td>\n",
       "      <td>225,252</td>\n",
       "      <td>77,260</td>\n",
       "    </tr>\n",
       "    <tr>\n",
       "      <th>1</th>\n",
       "      <td>사직동</td>\n",
       "      <td>145,664</td>\n",
       "      <td>185,390</td>\n",
       "      <td>105,938</td>\n",
       "      <td>162,108</td>\n",
       "      <td>217,048</td>\n",
       "      <td>107,167</td>\n",
       "      <td>166,024</td>\n",
       "      <td>228,857</td>\n",
       "      <td>103,192</td>\n",
       "      <td>173,553</td>\n",
       "      <td>246,659</td>\n",
       "      <td>100,447</td>\n",
       "      <td>150,227</td>\n",
       "      <td>209,365</td>\n",
       "      <td>91,088</td>\n",
       "    </tr>\n",
       "    <tr>\n",
       "      <th>2</th>\n",
       "      <td>삼청동</td>\n",
       "      <td>175,042</td>\n",
       "      <td>185,890</td>\n",
       "      <td>164,194</td>\n",
       "      <td>161,693</td>\n",
       "      <td>180,283</td>\n",
       "      <td>143,103</td>\n",
       "      <td>157,572</td>\n",
       "      <td>194,483</td>\n",
       "      <td>120,661</td>\n",
       "      <td>168,139</td>\n",
       "      <td>200,614</td>\n",
       "      <td>135,664</td>\n",
       "      <td>190,228</td>\n",
       "      <td>226,225</td>\n",
       "      <td>154,231</td>\n",
       "    </tr>\n",
       "    <tr>\n",
       "      <th>3</th>\n",
       "      <td>부암동</td>\n",
       "      <td>88,340</td>\n",
       "      <td>94,506</td>\n",
       "      <td>82,173</td>\n",
       "      <td>74,155</td>\n",
       "      <td>93,432</td>\n",
       "      <td>54,879</td>\n",
       "      <td>93,334</td>\n",
       "      <td>118,701</td>\n",
       "      <td>67,967</td>\n",
       "      <td>99,441</td>\n",
       "      <td>122,603</td>\n",
       "      <td>76,278</td>\n",
       "      <td>107,082</td>\n",
       "      <td>107,082</td>\n",
       "      <td>NaN</td>\n",
       "    </tr>\n",
       "    <tr>\n",
       "      <th>4</th>\n",
       "      <td>평창동</td>\n",
       "      <td>92,288</td>\n",
       "      <td>115,285</td>\n",
       "      <td>69,292</td>\n",
       "      <td>110,528</td>\n",
       "      <td>148,983</td>\n",
       "      <td>72,074</td>\n",
       "      <td>111,164</td>\n",
       "      <td>123,164</td>\n",
       "      <td>99,164</td>\n",
       "      <td>121,969</td>\n",
       "      <td>132,186</td>\n",
       "      <td>111,752</td>\n",
       "      <td>116,535</td>\n",
       "      <td>NaN</td>\n",
       "      <td>116,535</td>\n",
       "    </tr>\n",
       "  </tbody>\n",
       "</table>\n",
       "</div>"
      ],
      "text/plain": [
       "    행정구역  22-1 전체  22-1 1층 22-1 1층 외  22-2 전체  22-2 1층 22-2 1층 외  22-3 전체  \\\n",
       "0  청운효자동  129,755  181,103    78,407  147,878  212,258    83,498  142,725   \n",
       "1    사직동  145,664  185,390   105,938  162,108  217,048   107,167  166,024   \n",
       "2    삼청동  175,042  185,890   164,194  161,693  180,283   143,103  157,572   \n",
       "3    부암동   88,340   94,506    82,173   74,155   93,432    54,879   93,334   \n",
       "4    평창동   92,288  115,285    69,292  110,528  148,983    72,074  111,164   \n",
       "\n",
       "   22-3 1층 22-3 1층 외  22-4 전체  22-4 1층 22-4 1층 외  23-1 전체  23-1 1층 23-1 1층 외  \n",
       "0  195,183    90,268  155,797  224,849    86,744  151,256  225,252    77,260  \n",
       "1  228,857   103,192  173,553  246,659   100,447  150,227  209,365    91,088  \n",
       "2  194,483   120,661  168,139  200,614   135,664  190,228  226,225   154,231  \n",
       "3  118,701    67,967   99,441  122,603    76,278  107,082  107,082       NaN  \n",
       "4  123,164    99,164  121,969  132,186   111,752  116,535      NaN   116,535  "
      ]
     },
     "execution_count": 38,
     "metadata": {},
     "output_type": "execute_result"
    }
   ],
   "source": [
    "fee_rent = pd.read_csv('C:/Users/장희중학부재학통계학과/OneDrive - 고려대학교/바탕 화면/hj/공모전/2023 빅콘테스트/data/서울시_상권분석데이터/행정동별_임대료_1.csv', encoding='cp949')\n",
    "fee_rent.head()"
   ]
  },
  {
   "cell_type": "code",
   "execution_count": null,
   "metadata": {},
   "outputs": [],
   "source": [
    "# 분기별로 merge\n",
    "raw_22_1 = pd.merge(raw_in_match[raw_in_match['DATA_CRTR_YM'] <= 202203], fee_rent[['행정구역', '22-1 전체', '22-1 1층', '22-1 1층 외']], left_on=['ADM_NM'], right_on = ['행정구역'], how='left')\n",
    "raw_22_2 = pd.merge(raw_in_match[(raw_in_match['DATA_CRTR_YM'] <= 202206) & (raw_in_match['DATA_CRTR_YM'] > 202203)], fee_rent[['행정구역', '22-2 전체', '22-2 1층', '22-2 1층 외']], left_on=['ADM_NM'], right_on = ['행정구역'], how='left')\n",
    "raw_22_3 = pd.merge(raw_in_match[(raw_in_match['DATA_CRTR_YM'] <= 202209) & (raw_in_match['DATA_CRTR_YM'] > 202206)], fee_rent[['행정구역', '22-3 전체', '22-3 1층', '22-3 1층 외']], left_on=['ADM_NM'], right_on = ['행정구역'], how='left')\n",
    "raw_22_4 = pd.merge(raw_in_match[(raw_in_match['DATA_CRTR_YM'] <= 202212) & (raw_in_match['DATA_CRTR_YM'] > 202209)], fee_rent[['행정구역', '22-4 전체', '22-4 1층', '22-4 1층 외']], left_on=['ADM_NM'], right_on = ['행정구역'], how='left')\n",
    "raw_23_1 = pd.merge(raw_in_match[(raw_in_match['DATA_CRTR_YM'] <= 202302) & (raw_in_match['DATA_CRTR_YM'] > 202212)], fee_rent[['행정구역', '23-1 전체', '23-1 1층', '23-1 1층 외']], left_on=['ADM_NM'], right_on = ['행정구역'], how='left')"
   ]
  },
  {
   "cell_type": "code",
   "execution_count": null,
   "metadata": {},
   "outputs": [],
   "source": [
    "# 열 이름 통일\n",
    "## 22-1\n",
    "col_lst = list(raw_22_1.columns)\n",
    "col_lst[19] = '전체 임대료'\n",
    "col_lst[20] = '1층 임대료'\n",
    "col_lst[21] = '1층 외 임대료'\n",
    "raw_22_1.columns = col_lst\n",
    "## 22-2\n",
    "col_lst = list(raw_22_2.columns)\n",
    "col_lst[19] = '전체 임대료'\n",
    "col_lst[20] = '1층 임대료'\n",
    "col_lst[21] = '1층 외 임대료'\n",
    "raw_22_2.columns = col_lst\n",
    "## 22-3\n",
    "col_lst = list(raw_22_3.columns)\n",
    "col_lst[19] = '전체 임대료'\n",
    "col_lst[20] = '1층 임대료'\n",
    "col_lst[21] = '1층 외 임대료'\n",
    "raw_22_3.columns = col_lst\n",
    "## 22-4\n",
    "col_lst = list(raw_22_4.columns)\n",
    "col_lst[19] = '전체 임대료'\n",
    "col_lst[20] = '1층 임대료'\n",
    "col_lst[21] = '1층 외 임대료'\n",
    "raw_22_4.columns = col_lst\n",
    "## 23-1\n",
    "col_lst = list(raw_23_1.columns)\n",
    "col_lst[19] = '전체 임대료'\n",
    "col_lst[20] = '1층 임대료'\n",
    "col_lst[21] = '1층 외 임대료'\n",
    "raw_23_1.columns = col_lst"
   ]
  },
  {
   "cell_type": "code",
   "execution_count": null,
   "metadata": {},
   "outputs": [],
   "source": [
    "# 분기별 데이터 하나로 합치기\n",
    "raw_in_match = pd.concat([raw_22_1, raw_22_2, raw_22_3, raw_22_4, raw_23_1])\n",
    "raw_in_match.drop(columns='행정구역', axis=1, inplace=True)"
   ]
  },
  {
   "cell_type": "code",
   "execution_count": null,
   "metadata": {},
   "outputs": [
    {
     "data": {
      "text/plain": [
       "\" \\nraw_in_match['전체 임대료'] = raw_in_match['전체 임대료'].str.replace(',', '').astype(int)\\nraw_in_match['1층 임대료'] = raw_in_match['1층 임대료'].str.replace(',', '').astype(int)\\nraw_in_match['1층 외 임대료'] = raw_in_match['1층 외 임대료'].str.replace(',', '').astype(int)\\n\""
      ]
     },
     "execution_count": 42,
     "metadata": {},
     "output_type": "execute_result"
    }
   ],
   "source": [
    "# '전체 임대료'와 '1층 임대료', '1층 외 임대료' 열에서 쉼표(,) 제거하고 문자열을 숫자로 변환\n",
    "# null값 처리 후 해야함\n",
    "\"\"\" \n",
    "raw_in_match['전체 임대료'] = raw_in_match['전체 임대료'].str.replace(',', '').astype(int)\n",
    "raw_in_match['1층 임대료'] = raw_in_match['1층 임대료'].str.replace(',', '').astype(int)\n",
    "raw_in_match['1층 외 임대료'] = raw_in_match['1층 외 임대료'].str.replace(',', '').astype(int)\n",
    "\"\"\""
   ]
  },
  {
   "cell_type": "markdown",
   "metadata": {},
   "source": [
    "#### 점포수, 인구수, 개폐업수, 임대료 변수 다 합친 데이터 보기"
   ]
  },
  {
   "cell_type": "code",
   "execution_count": null,
   "metadata": {},
   "outputs": [
    {
     "name": "stdout",
     "output_type": "stream",
     "text": [
      "<class 'pandas.core.frame.DataFrame'>\n",
      "Int64Index: 1172902 entries, 0 to 19969\n",
      "Data columns (total 21 columns):\n",
      " #   Column        Non-Null Count    Dtype  \n",
      "---  ------        --------------    -----  \n",
      " 0   DATA_CRTR_YM  1172902 non-null  int64  \n",
      " 1   LT_UNQ_NO     1172902 non-null  int64  \n",
      " 2   STDG_EMD_CD   1172902 non-null  int64  \n",
      " 3   ADM_CD        1172902 non-null  int64  \n",
      " 4   ADM_NM        1172902 non-null  object \n",
      " 5   INDUSTRY_CD   1172902 non-null  object \n",
      " 6   SLS_GRD       1152932 non-null  float64\n",
      " 7   생활밀접업종        1172902 non-null  object \n",
      " 8   전체점포수         1172902 non-null  float64\n",
      " 9   프랜차이즈점포수      1172902 non-null  float64\n",
      " 10  일반점포수         1172902 non-null  float64\n",
      " 11  길단위유동인구       1172902 non-null  int32  \n",
      " 12  주거인구          1172902 non-null  int64  \n",
      " 13  직장인구          1172902 non-null  int32  \n",
      " 14  개업수           1172902 non-null  float64\n",
      " 15  폐업수           1172902 non-null  float64\n",
      " 16  개업률           1172902 non-null  float64\n",
      " 17  폐업률           1172902 non-null  float64\n",
      " 18  전체 임대료        1156199 non-null  object \n",
      " 19  1층 임대료        1154753 non-null  object \n",
      " 20  1층 외 임대료      1152714 non-null  object \n",
      "dtypes: float64(8), int32(2), int64(5), object(6)\n",
      "memory usage: 187.9+ MB\n"
     ]
    }
   ],
   "source": [
    "raw_in_match.info()"
   ]
  },
  {
   "cell_type": "code",
   "execution_count": null,
   "metadata": {},
   "outputs": [
    {
     "data": {
      "text/plain": [
       "DATA_CRTR_YM        0\n",
       "LT_UNQ_NO           0\n",
       "STDG_EMD_CD         0\n",
       "ADM_CD              0\n",
       "ADM_NM              0\n",
       "INDUSTRY_CD         0\n",
       "SLS_GRD         19970\n",
       "생활밀접업종              0\n",
       "전체점포수               0\n",
       "프랜차이즈점포수            0\n",
       "일반점포수               0\n",
       "길단위유동인구             0\n",
       "주거인구                0\n",
       "직장인구                0\n",
       "개업수                 0\n",
       "폐업수                 0\n",
       "개업률                 0\n",
       "폐업률                 0\n",
       "전체 임대료          16703\n",
       "1층 임대료          18149\n",
       "1층 외 임대료        20188\n",
       "dtype: int64"
      ]
     },
     "execution_count": 44,
     "metadata": {},
     "output_type": "execute_result"
    }
   ],
   "source": [
    "raw_in_match.isna().sum()"
   ]
  }
 ],
 "metadata": {
  "kernelspec": {
   "display_name": "venv",
   "language": "python",
   "name": "python3"
  },
  "language_info": {
   "codemirror_mode": {
    "name": "ipython",
    "version": 3
   },
   "file_extension": ".py",
   "mimetype": "text/x-python",
   "name": "python",
   "nbconvert_exporter": "python",
   "pygments_lexer": "ipython3",
   "version": "3.8.15"
  },
  "orig_nbformat": 4
 },
 "nbformat": 4,
 "nbformat_minor": 2
}
