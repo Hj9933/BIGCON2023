{
 "cells": [
  {
   "cell_type": "markdown",
   "id": "hbPhjTP2QjJe",
   "metadata": {
    "id": "hbPhjTP2QjJe"
   },
   "source": [
    "# 1. 초기 시작"
   ]
  },
  {
   "cell_type": "code",
   "execution_count": 1,
   "id": "7b3c7e88",
   "metadata": {
    "executionInfo": {
     "elapsed": 2782,
     "status": "ok",
     "timestamp": 1694842386194,
     "user": {
      "displayName": "다경",
      "userId": "04164406032455601319"
     },
     "user_tz": -540
    },
    "id": "7b3c7e88"
   },
   "outputs": [],
   "source": [
    "import pandas as pd\n",
    "import numpy as np\n",
    "import matplotlib.pyplot as plt\n",
    "import seaborn as sns\n",
    "\n",
    "from sklearn.preprocessing import StandardScaler\n",
    "\n",
    "from sklearn.ensemble import RandomForestClassifier\n",
    "\n",
    "from sklearn.metrics import accuracy_score"
   ]
  },
  {
   "cell_type": "code",
   "execution_count": 2,
   "id": "sTmB5-waenxK",
   "metadata": {
    "executionInfo": {
     "elapsed": 2,
     "status": "ok",
     "timestamp": 1694842390646,
     "user": {
      "displayName": "다경",
      "userId": "04164406032455601319"
     },
     "user_tz": -540
    },
    "id": "sTmB5-waenxK"
   },
   "outputs": [],
   "source": [
    "import warnings\n",
    "warnings.filterwarnings('ignore')"
   ]
  },
  {
   "cell_type": "code",
   "execution_count": 3,
   "id": "65268482",
   "metadata": {},
   "outputs": [
    {
     "name": "stdout",
     "output_type": "stream",
     "text": [
      "D:\\Dakye\\withPYTHON\\BIGCON\\model\n",
      "D:\\Dakye\\withPYTHON\\BIGCON\n"
     ]
    }
   ],
   "source": [
    "import os\n",
    "\n",
    "print(os.getcwd())\n",
    "os.chdir('D:\\Dakye\\withPYTHON\\BIGCON')\n",
    "print(os.getcwd())"
   ]
  },
  {
   "cell_type": "code",
   "execution_count": 4,
   "id": "f91a6bc6",
   "metadata": {
    "executionInfo": {
     "elapsed": 5533,
     "status": "ok",
     "timestamp": 1694842405148,
     "user": {
      "displayName": "다경",
      "userId": "04164406032455601319"
     },
     "user_tz": -540
    },
    "id": "f91a6bc6"
   },
   "outputs": [],
   "source": [
    "# 데이터 불러오기\n",
    "data = pd.read_csv(\"raw_data_final.csv\", encoding=\"cp949\")"
   ]
  },
  {
   "cell_type": "code",
   "execution_count": 5,
   "id": "376c39d8",
   "metadata": {
    "executionInfo": {
     "elapsed": 451,
     "status": "ok",
     "timestamp": 1694842405598,
     "user": {
      "displayName": "다경",
      "userId": "04164406032455601319"
     },
     "user_tz": -540
    },
    "id": "376c39d8"
   },
   "outputs": [],
   "source": [
    "data['INDUSTRY_CD_label'] = data['INDUSTRY_CD'].str[1:].astype('int')"
   ]
  },
  {
   "cell_type": "code",
   "execution_count": 6,
   "id": "57a739ec",
   "metadata": {
    "executionInfo": {
     "elapsed": 363,
     "status": "ok",
     "timestamp": 1694842405960,
     "user": {
      "displayName": "다경",
      "userId": "04164406032455601319"
     },
     "user_tz": -540
    },
    "id": "57a739ec"
   },
   "outputs": [],
   "source": [
    "train = data[(data['train']==1)&(data['DATA_CRTR_YM']<=202210)].reset_index()\n",
    "valid = data[(data['train']==1)&(data['DATA_CRTR_YM']<=202212)&(data['DATA_CRTR_YM']>=202211)].reset_index()\n",
    "test = data[data['train']==0].reset_index()"
   ]
  },
  {
   "cell_type": "code",
   "execution_count": 7,
   "id": "cf3f4d15",
   "metadata": {
    "executionInfo": {
     "elapsed": 294,
     "status": "ok",
     "timestamp": 1694842406252,
     "user": {
      "displayName": "다경",
      "userId": "04164406032455601319"
     },
     "user_tz": -540
    },
    "id": "cf3f4d15"
   },
   "outputs": [],
   "source": [
    "train.drop(columns=['전체점포수', '전체 임대료', '65세이상_남', '65세이상_여','index','train'], axis=1, inplace=True)\n",
    "valid.drop(columns=['전체점포수', '전체 임대료', '65세이상_남', '65세이상_여','index','train'], axis=1, inplace=True)\n",
    "test.drop(columns=['전체점포수', '전체 임대료', '65세이상_남', '65세이상_여','index','train'], axis=1, inplace=True)"
   ]
  },
  {
   "cell_type": "markdown",
   "id": "e6cf0901",
   "metadata": {},
   "source": [
    "##### 업종별로 나눈 데이터 생성하기"
   ]
  },
  {
   "cell_type": "code",
   "execution_count": 8,
   "id": "22cef258",
   "metadata": {},
   "outputs": [],
   "source": [
    "train1 = train[train['INDUSTRY_CD_label'] == 1]\n",
    "train2 = train[train['INDUSTRY_CD_label'] == 2]\n",
    "train3 = train[train['INDUSTRY_CD_label'] == 3]\n",
    "train4 = train[train['INDUSTRY_CD_label'] == 4]\n",
    "train5 = train[train['INDUSTRY_CD_label'] == 5]\n",
    "train6 = train[train['INDUSTRY_CD_label'] == 6]\n",
    "train7 = train[train['INDUSTRY_CD_label'] == 7]\n",
    "train8 = train[train['INDUSTRY_CD_label'] == 8]\n",
    "train9 = train[train['INDUSTRY_CD_label'] == 9]\n",
    "train10 = train[train['INDUSTRY_CD_label'] == 10]\n",
    "train11 = train[train['INDUSTRY_CD_label'] == 11]\n",
    "train12 = train[train['INDUSTRY_CD_label'] == 12]\n",
    "train13 = train[train['INDUSTRY_CD_label'] == 13]\n",
    "train14 = train[train['INDUSTRY_CD_label'] == 14]\n",
    "train15 = train[train['INDUSTRY_CD_label'] == 15]"
   ]
  },
  {
   "cell_type": "code",
   "execution_count": 9,
   "id": "2d2b64b5",
   "metadata": {},
   "outputs": [],
   "source": [
    "valid1 = valid[valid['INDUSTRY_CD_label'] == 1]\n",
    "valid2 = valid[valid['INDUSTRY_CD_label'] == 2]\n",
    "valid3 = valid[valid['INDUSTRY_CD_label'] == 3]\n",
    "valid4 = valid[valid['INDUSTRY_CD_label'] == 4]\n",
    "valid5 = valid[valid['INDUSTRY_CD_label'] == 5]\n",
    "valid6 = valid[valid['INDUSTRY_CD_label'] == 6]\n",
    "valid7 = valid[valid['INDUSTRY_CD_label'] == 7]\n",
    "valid8 = valid[valid['INDUSTRY_CD_label'] == 8]\n",
    "valid9 = valid[valid['INDUSTRY_CD_label'] == 9]\n",
    "valid10 = valid[valid['INDUSTRY_CD_label'] == 10]\n",
    "valid11 = valid[valid['INDUSTRY_CD_label'] == 11]\n",
    "valid12 = valid[valid['INDUSTRY_CD_label'] == 12]\n",
    "valid13 = valid[valid['INDUSTRY_CD_label'] == 13]\n",
    "valid14 = valid[valid['INDUSTRY_CD_label'] == 14]\n",
    "valid15 = valid[valid['INDUSTRY_CD_label'] == 15]"
   ]
  },
  {
   "cell_type": "code",
   "execution_count": 10,
   "id": "7a7df17a",
   "metadata": {},
   "outputs": [],
   "source": [
    "test1 = test[test['INDUSTRY_CD_label'] == 1]\n",
    "test2 = test[test['INDUSTRY_CD_label'] == 2]\n",
    "test3 = test[test['INDUSTRY_CD_label'] == 3]\n",
    "test4 = test[test['INDUSTRY_CD_label'] == 4]\n",
    "test5 = test[test['INDUSTRY_CD_label'] == 5]\n",
    "test6 = test[test['INDUSTRY_CD_label'] == 6]\n",
    "test7 = test[test['INDUSTRY_CD_label'] == 7]\n",
    "test8 = test[test['INDUSTRY_CD_label'] == 8]\n",
    "test9 = test[test['INDUSTRY_CD_label'] == 9]\n",
    "test10 = test[test['INDUSTRY_CD_label'] == 10]\n",
    "test11 = test[test['INDUSTRY_CD_label'] == 11]\n",
    "test12 = test[test['INDUSTRY_CD_label'] == 12]\n",
    "test13 = test[test['INDUSTRY_CD_label'] == 13]\n",
    "test14 = test[test['INDUSTRY_CD_label'] == 14]\n",
    "test15 = test[test['INDUSTRY_CD_label'] == 15]"
   ]
  },
  {
   "cell_type": "code",
   "execution_count": 11,
   "id": "6738867e",
   "metadata": {},
   "outputs": [],
   "source": [
    "columns = ['프랜차이즈점포수', '일반점포수', '길단위유동인구', '주거인구', '직장인구', '개업수', '폐업수', '개업률', '폐업률',\n",
    "           '1층 임대료', '1층 외 임대료', '생활물가지수', '부동산거래대비유동인구', '공실률대비매매가임대료', '젠트리피케이션',\n",
    "           '지하철개수', '스타벅스개수', '65세이상', '출근시간_승차수', '출근시간_하차수', '주말_하차수']"
   ]
  },
  {
   "cell_type": "code",
   "execution_count": 12,
   "id": "584605a0",
   "metadata": {},
   "outputs": [],
   "source": [
    "X_train1 = train1[columns]\n",
    "X_train2 = train2[columns]\n",
    "X_train3 = train3[columns]\n",
    "X_train4 = train4[columns]\n",
    "X_train5 = train5[columns]\n",
    "X_train6 = train6[columns]\n",
    "X_train7 = train7[columns]\n",
    "X_train8 = train8[columns]\n",
    "X_train9 = train9[columns]\n",
    "X_train10 = train10[columns]\n",
    "X_train11 = train11[columns]\n",
    "X_train12 = train12[columns]\n",
    "X_train13 = train13[columns]\n",
    "X_train14 = train14[columns]\n",
    "X_train15 = train15[columns]"
   ]
  },
  {
   "cell_type": "code",
   "execution_count": 13,
   "id": "e07c5c97",
   "metadata": {},
   "outputs": [],
   "source": [
    "y_train1 = train1['SLS_GRD']\n",
    "y_train2 = train2['SLS_GRD']\n",
    "y_train3 = train3['SLS_GRD']\n",
    "y_train4 = train4['SLS_GRD']\n",
    "y_train5 = train5['SLS_GRD']\n",
    "y_train6 = train6['SLS_GRD']\n",
    "y_train7 = train7['SLS_GRD']\n",
    "y_train8 = train8['SLS_GRD']\n",
    "y_train9 = train9['SLS_GRD']\n",
    "y_train10 = train10['SLS_GRD']\n",
    "y_train11 = train11['SLS_GRD']\n",
    "y_train12 = train12['SLS_GRD']\n",
    "y_train13 = train13['SLS_GRD']\n",
    "y_train14 = train14['SLS_GRD']\n",
    "y_train15 = train15['SLS_GRD']"
   ]
  },
  {
   "cell_type": "code",
   "execution_count": 14,
   "id": "6d9017ae",
   "metadata": {},
   "outputs": [],
   "source": [
    "X_valid1 = valid1[columns]\n",
    "X_valid2 = valid2[columns]\n",
    "X_valid3 = valid3[columns]\n",
    "X_valid4 = valid4[columns]\n",
    "X_valid5 = valid5[columns]\n",
    "X_valid6 = valid6[columns]\n",
    "X_valid7 = valid7[columns]\n",
    "X_valid8 = valid8[columns]\n",
    "X_valid9 = valid9[columns]\n",
    "X_valid10 = valid10[columns]\n",
    "X_valid11 = valid11[columns]\n",
    "X_valid12 = valid12[columns]\n",
    "X_valid13 = valid13[columns]\n",
    "X_valid14 = valid14[columns]\n",
    "X_valid15 = valid15[columns]"
   ]
  },
  {
   "cell_type": "code",
   "execution_count": 15,
   "id": "331351a3",
   "metadata": {},
   "outputs": [],
   "source": [
    "y_valid1 = valid1['SLS_GRD']\n",
    "y_valid2 = valid2['SLS_GRD']\n",
    "y_valid3 = valid3['SLS_GRD']\n",
    "y_valid4 = valid4['SLS_GRD']\n",
    "y_valid5 = valid5['SLS_GRD']\n",
    "y_valid6 = valid6['SLS_GRD']\n",
    "y_valid7 = valid7['SLS_GRD']\n",
    "y_valid8 = valid8['SLS_GRD']\n",
    "y_valid9 = valid9['SLS_GRD']\n",
    "y_valid10 = valid10['SLS_GRD']\n",
    "y_valid11 = valid11['SLS_GRD']\n",
    "y_valid12 = valid12['SLS_GRD']\n",
    "y_valid13 = valid13['SLS_GRD']\n",
    "y_valid14 = valid14['SLS_GRD']\n",
    "y_valid15 = valid15['SLS_GRD']"
   ]
  },
  {
   "cell_type": "code",
   "execution_count": 16,
   "id": "9f949143",
   "metadata": {},
   "outputs": [],
   "source": [
    "X_test1 = test1[columns]\n",
    "X_test2 = test2[columns]\n",
    "X_test3 = test3[columns]\n",
    "X_test4 = test4[columns]\n",
    "X_test5 = test5[columns]\n",
    "X_test6 = test6[columns]\n",
    "X_test7 = test7[columns]\n",
    "X_test8 = test8[columns]\n",
    "X_test9 = test9[columns]\n",
    "X_test10 = test10[columns]\n",
    "X_test11 = test11[columns]\n",
    "X_test12 = test12[columns]\n",
    "X_test13 = test13[columns]\n",
    "X_test14 = test14[columns]\n",
    "X_test15 = test15[columns]"
   ]
  },
  {
   "cell_type": "code",
   "execution_count": 17,
   "id": "b397167e",
   "metadata": {},
   "outputs": [],
   "source": [
    "features_to_scale = X_train1.columns"
   ]
  },
  {
   "cell_type": "code",
   "execution_count": 18,
   "id": "740d5aec",
   "metadata": {},
   "outputs": [],
   "source": [
    "scaler1 = StandardScaler()\n",
    "scaler1.fit(X_train1[features_to_scale])\n",
    "X_train1[features_to_scale] = scaler1.transform(X_train1[features_to_scale])\n",
    "X_valid1[features_to_scale] = scaler1.transform(X_valid1[features_to_scale])\n",
    "X_test1[features_to_scale] = scaler1.transform(X_test1[features_to_scale])"
   ]
  },
  {
   "cell_type": "code",
   "execution_count": 19,
   "id": "ab1b29ab",
   "metadata": {},
   "outputs": [],
   "source": [
    "scaler2 = StandardScaler()\n",
    "scaler2.fit(X_train2[features_to_scale])\n",
    "X_train2[features_to_scale] = scaler2.transform(X_train2[features_to_scale])\n",
    "X_valid2[features_to_scale] = scaler2.transform(X_valid2[features_to_scale])\n",
    "X_test2[features_to_scale] = scaler2.transform(X_test2[features_to_scale])"
   ]
  },
  {
   "cell_type": "code",
   "execution_count": 20,
   "id": "319c8d91",
   "metadata": {},
   "outputs": [],
   "source": [
    "scaler3 = StandardScaler()\n",
    "scaler3.fit(X_train3[features_to_scale])\n",
    "X_train3[features_to_scale] = scaler3.transform(X_train3[features_to_scale])\n",
    "X_valid3[features_to_scale] = scaler3.transform(X_valid3[features_to_scale])\n",
    "X_test3[features_to_scale] = scaler3.transform(X_test3[features_to_scale])"
   ]
  },
  {
   "cell_type": "code",
   "execution_count": 21,
   "id": "823f1cf8",
   "metadata": {},
   "outputs": [],
   "source": [
    "scaler4 = StandardScaler()\n",
    "scaler4.fit(X_train4[features_to_scale])\n",
    "X_train4[features_to_scale] = scaler4.transform(X_train4[features_to_scale])\n",
    "X_valid4[features_to_scale] = scaler4.transform(X_valid4[features_to_scale])\n",
    "X_test4[features_to_scale] = scaler4.transform(X_test4[features_to_scale])"
   ]
  },
  {
   "cell_type": "code",
   "execution_count": 22,
   "id": "6e40bec2",
   "metadata": {},
   "outputs": [],
   "source": [
    "scaler5 = StandardScaler()\n",
    "scaler5.fit(X_train5[features_to_scale])\n",
    "X_train5[features_to_scale] = scaler5.transform(X_train5[features_to_scale])\n",
    "X_valid5[features_to_scale] = scaler5.transform(X_valid5[features_to_scale])\n",
    "X_test5[features_to_scale] = scaler5.transform(X_test5[features_to_scale])"
   ]
  },
  {
   "cell_type": "code",
   "execution_count": 23,
   "id": "f0cfb616",
   "metadata": {},
   "outputs": [],
   "source": [
    "scaler6 = StandardScaler()\n",
    "scaler6.fit(X_train6[features_to_scale])\n",
    "X_train6[features_to_scale] = scaler6.transform(X_train6[features_to_scale])\n",
    "X_valid6[features_to_scale] = scaler6.transform(X_valid6[features_to_scale])\n",
    "X_test6[features_to_scale] = scaler6.transform(X_test6[features_to_scale])"
   ]
  },
  {
   "cell_type": "code",
   "execution_count": 24,
   "id": "e03b818c",
   "metadata": {},
   "outputs": [],
   "source": [
    "scaler7 = StandardScaler()\n",
    "scaler7.fit(X_train7[features_to_scale])\n",
    "X_train7[features_to_scale] = scaler7.transform(X_train7[features_to_scale])\n",
    "X_valid7[features_to_scale] = scaler7.transform(X_valid7[features_to_scale])\n",
    "X_test7[features_to_scale] = scaler7.transform(X_test7[features_to_scale])"
   ]
  },
  {
   "cell_type": "code",
   "execution_count": 25,
   "id": "286ec4e9",
   "metadata": {},
   "outputs": [],
   "source": [
    "scaler8 = StandardScaler()\n",
    "scaler8.fit(X_train8[features_to_scale])\n",
    "X_train8[features_to_scale] = scaler8.transform(X_train8[features_to_scale])\n",
    "X_valid8[features_to_scale] = scaler8.transform(X_valid8[features_to_scale])\n",
    "X_test8[features_to_scale] = scaler8.transform(X_test8[features_to_scale])"
   ]
  },
  {
   "cell_type": "code",
   "execution_count": 26,
   "id": "bca52cfe",
   "metadata": {},
   "outputs": [],
   "source": [
    "scaler9 = StandardScaler()\n",
    "scaler9.fit(X_train9[features_to_scale])\n",
    "X_train9[features_to_scale] = scaler9.transform(X_train9[features_to_scale])\n",
    "X_valid9[features_to_scale] = scaler9.transform(X_valid9[features_to_scale])\n",
    "X_test9[features_to_scale] = scaler9.transform(X_test9[features_to_scale])"
   ]
  },
  {
   "cell_type": "code",
   "execution_count": 27,
   "id": "c49c1c7c",
   "metadata": {},
   "outputs": [],
   "source": [
    "scaler10 = StandardScaler()\n",
    "scaler10.fit(X_train10[features_to_scale])\n",
    "X_train10[features_to_scale] = scaler10.transform(X_train10[features_to_scale])\n",
    "X_valid10[features_to_scale] = scaler10.transform(X_valid10[features_to_scale])\n",
    "X_test10[features_to_scale] = scaler10.transform(X_test10[features_to_scale])"
   ]
  },
  {
   "cell_type": "code",
   "execution_count": 28,
   "id": "5fb2ecb3",
   "metadata": {},
   "outputs": [],
   "source": [
    "scaler11 = StandardScaler()\n",
    "scaler11.fit(X_train11[features_to_scale])\n",
    "X_train11[features_to_scale] = scaler11.transform(X_train11[features_to_scale])\n",
    "X_valid11[features_to_scale] = scaler11.transform(X_valid11[features_to_scale])\n",
    "X_test11[features_to_scale] = scaler11.transform(X_test11[features_to_scale])"
   ]
  },
  {
   "cell_type": "code",
   "execution_count": 29,
   "id": "8f3b49ec",
   "metadata": {},
   "outputs": [],
   "source": [
    "scaler12 = StandardScaler()\n",
    "scaler12.fit(X_train12[features_to_scale])\n",
    "X_train12[features_to_scale] = scaler12.transform(X_train12[features_to_scale])\n",
    "X_valid12[features_to_scale] = scaler12.transform(X_valid12[features_to_scale])\n",
    "X_test12[features_to_scale] = scaler12.transform(X_test12[features_to_scale])"
   ]
  },
  {
   "cell_type": "code",
   "execution_count": 30,
   "id": "47763326",
   "metadata": {},
   "outputs": [],
   "source": [
    "scaler13 = StandardScaler()\n",
    "scaler13.fit(X_train13[features_to_scale])\n",
    "X_train13[features_to_scale] = scaler13.transform(X_train13[features_to_scale])\n",
    "X_valid13[features_to_scale] = scaler13.transform(X_valid13[features_to_scale])\n",
    "X_test13[features_to_scale] = scaler13.transform(X_test13[features_to_scale])"
   ]
  },
  {
   "cell_type": "code",
   "execution_count": 31,
   "id": "a8dac511",
   "metadata": {},
   "outputs": [],
   "source": [
    "scaler14 = StandardScaler()\n",
    "scaler14.fit(X_train14[features_to_scale])\n",
    "X_train14[features_to_scale] = scaler14.transform(X_train14[features_to_scale])\n",
    "X_valid14[features_to_scale] = scaler14.transform(X_valid14[features_to_scale])\n",
    "X_test14[features_to_scale] = scaler14.transform(X_test14[features_to_scale])"
   ]
  },
  {
   "cell_type": "code",
   "execution_count": 32,
   "id": "45f951cc",
   "metadata": {},
   "outputs": [],
   "source": [
    "scaler15 = StandardScaler()\n",
    "scaler15.fit(X_train15[features_to_scale])\n",
    "X_train15[features_to_scale] = scaler15.transform(X_train15[features_to_scale])\n",
    "X_valid15[features_to_scale] = scaler15.transform(X_valid15[features_to_scale])\n",
    "X_test15[features_to_scale] = scaler15.transform(X_test15[features_to_scale])"
   ]
  },
  {
   "cell_type": "code",
   "execution_count": 33,
   "id": "9683a48a",
   "metadata": {
    "executionInfo": {
     "elapsed": 4,
     "status": "ok",
     "timestamp": 1694842411756,
     "user": {
      "displayName": "다경",
      "userId": "04164406032455601319"
     },
     "user_tz": -540
    },
    "id": "9683a48a"
   },
   "outputs": [],
   "source": [
    "X_train1['INDUSTRY_CD_label'] = train1['INDUSTRY_CD_label']\n",
    "X_valid1['INDUSTRY_CD_label'] = valid1['INDUSTRY_CD_label']\n",
    "X_test1['INDUSTRY_CD_label'] = test1['INDUSTRY_CD_label']\n",
    "X_train1['대학교여부'] = train1['대학교여부']\n",
    "X_valid1['대학교여부'] = valid1['대학교여부']\n",
    "X_test1['대학교여부'] = test1['대학교여부']\n",
    "\n",
    "X_train2['INDUSTRY_CD_label'] = train2['INDUSTRY_CD_label']\n",
    "X_valid2['INDUSTRY_CD_label'] = valid2['INDUSTRY_CD_label']\n",
    "X_test2['INDUSTRY_CD_label'] = test2['INDUSTRY_CD_label']\n",
    "X_train2['대학교여부'] = train2['대학교여부']\n",
    "X_valid2['대학교여부'] = valid2['대학교여부']\n",
    "X_test2['대학교여부'] = test2['대학교여부']\n",
    "\n",
    "X_train3['INDUSTRY_CD_label'] = train3['INDUSTRY_CD_label']\n",
    "X_valid3['INDUSTRY_CD_label'] = valid3['INDUSTRY_CD_label']\n",
    "X_test3['INDUSTRY_CD_label'] = test3['INDUSTRY_CD_label']\n",
    "X_train3['대학교여부'] = train3['대학교여부']\n",
    "X_valid3['대학교여부'] = valid3['대학교여부']\n",
    "X_test3['대학교여부'] = test3['대학교여부']\n",
    "\n",
    "X_train4['INDUSTRY_CD_label'] = train4['INDUSTRY_CD_label']\n",
    "X_valid4['INDUSTRY_CD_label'] = valid4['INDUSTRY_CD_label']\n",
    "X_test4['INDUSTRY_CD_label'] = test4['INDUSTRY_CD_label']\n",
    "X_train4['대학교여부'] = train4['대학교여부']\n",
    "X_valid4['대학교여부'] = valid4['대학교여부']\n",
    "X_test4['대학교여부'] = test4['대학교여부']\n",
    "\n",
    "X_train5['INDUSTRY_CD_label'] = train['INDUSTRY_CD_label']\n",
    "X_valid5['INDUSTRY_CD_label'] = valid5['INDUSTRY_CD_label']\n",
    "X_test5['INDUSTRY_CD_label'] = test5['INDUSTRY_CD_label']\n",
    "X_train5['대학교여부'] = train5['대학교여부']\n",
    "X_valid5['대학교여부'] = valid5['대학교여부']\n",
    "X_test5['대학교여부'] = test5['대학교여부']\n",
    "\n",
    "X_train6['INDUSTRY_CD_label'] = train6['INDUSTRY_CD_label']\n",
    "X_valid6['INDUSTRY_CD_label'] = valid6['INDUSTRY_CD_label']\n",
    "X_test6['INDUSTRY_CD_label'] = test6['INDUSTRY_CD_label']\n",
    "X_train6['대학교여부'] = train6['대학교여부']\n",
    "X_valid6['대학교여부'] = valid6['대학교여부']\n",
    "X_test6['대학교여부'] = test6['대학교여부']\n",
    "\n",
    "X_train7['INDUSTRY_CD_label'] = train7['INDUSTRY_CD_label']\n",
    "X_valid7['INDUSTRY_CD_label'] = valid7['INDUSTRY_CD_label']\n",
    "X_test7['INDUSTRY_CD_label'] = test7['INDUSTRY_CD_label']\n",
    "X_train7['대학교여부'] = train7['대학교여부']\n",
    "X_valid7['대학교여부'] = valid7['대학교여부']\n",
    "X_test7['대학교여부'] = test7['대학교여부']\n",
    "\n",
    "X_train8['INDUSTRY_CD_label'] = train8['INDUSTRY_CD_label']\n",
    "X_valid8['INDUSTRY_CD_label'] = valid8['INDUSTRY_CD_label']\n",
    "X_test8['INDUSTRY_CD_label'] = test8['INDUSTRY_CD_label']\n",
    "X_train8['대학교여부'] = train8['대학교여부']\n",
    "X_valid8['대학교여부'] = valid8['대학교여부']\n",
    "X_test8['대학교여부'] = test8['대학교여부']\n",
    "\n",
    "X_train9['INDUSTRY_CD_label'] = train9['INDUSTRY_CD_label']\n",
    "X_valid9['INDUSTRY_CD_label'] = valid9['INDUSTRY_CD_label']\n",
    "X_test9['INDUSTRY_CD_label'] = test9['INDUSTRY_CD_label']\n",
    "X_train9['대학교여부'] = train9['대학교여부']\n",
    "X_valid9['대학교여부'] = valid9['대학교여부']\n",
    "X_test9['대학교여부'] = test9['대학교여부']\n",
    "\n",
    "X_train10['INDUSTRY_CD_label'] = train10['INDUSTRY_CD_label']\n",
    "X_valid10['INDUSTRY_CD_label'] = valid10['INDUSTRY_CD_label']\n",
    "X_test10['INDUSTRY_CD_label'] = test10['INDUSTRY_CD_label']\n",
    "X_train10['대학교여부'] = train10['대학교여부']\n",
    "X_valid10['대학교여부'] = valid10['대학교여부']\n",
    "X_test10['대학교여부'] = test10['대학교여부']\n",
    "\n",
    "X_train11['INDUSTRY_CD_label'] = train11['INDUSTRY_CD_label']\n",
    "X_valid11['INDUSTRY_CD_label'] = valid11['INDUSTRY_CD_label']\n",
    "X_test11['INDUSTRY_CD_label'] = test11['INDUSTRY_CD_label']\n",
    "X_train11['대학교여부'] = train11['대학교여부']\n",
    "X_valid11['대학교여부'] = valid11['대학교여부']\n",
    "X_test11['대학교여부'] = test11['대학교여부']\n",
    "\n",
    "X_train12['INDUSTRY_CD_label'] = train12['INDUSTRY_CD_label']\n",
    "X_valid12['INDUSTRY_CD_label'] = valid12['INDUSTRY_CD_label']\n",
    "X_test12['INDUSTRY_CD_label'] = test12['INDUSTRY_CD_label']\n",
    "X_train12['대학교여부'] = train12['대학교여부']\n",
    "X_valid12['대학교여부'] = valid12['대학교여부']\n",
    "X_test12['대학교여부'] = test12['대학교여부']\n",
    "\n",
    "X_train13['INDUSTRY_CD_label'] = train13['INDUSTRY_CD_label']\n",
    "X_valid13['INDUSTRY_CD_label'] = valid13['INDUSTRY_CD_label']\n",
    "X_test13['INDUSTRY_CD_label'] = test13['INDUSTRY_CD_label']\n",
    "X_train13['대학교여부'] = train13['대학교여부']\n",
    "X_valid13['대학교여부'] = valid13['대학교여부']\n",
    "X_test13['대학교여부'] = test13['대학교여부']\n",
    "\n",
    "X_train14['INDUSTRY_CD_label'] = train14['INDUSTRY_CD_label']\n",
    "X_valid14['INDUSTRY_CD_label'] = valid14['INDUSTRY_CD_label']\n",
    "X_test14['INDUSTRY_CD_label'] = test14['INDUSTRY_CD_label']\n",
    "X_train14['대학교여부'] = train14['대학교여부']\n",
    "X_valid14['대학교여부'] = valid14['대학교여부']\n",
    "X_test14['대학교여부'] = test14['대학교여부']\n",
    "\n",
    "X_train15['INDUSTRY_CD_label'] = train15['INDUSTRY_CD_label']\n",
    "X_valid15['INDUSTRY_CD_label'] = valid15['INDUSTRY_CD_label']\n",
    "X_test15['INDUSTRY_CD_label'] = test15['INDUSTRY_CD_label']\n",
    "X_train15['대학교여부'] = train15['대학교여부']\n",
    "X_valid15['대학교여부'] = valid15['대학교여부']\n",
    "X_test15['대학교여부'] = test15['대학교여부']"
   ]
  },
  {
   "cell_type": "markdown",
   "id": "dBu_CM_1Q-T8",
   "metadata": {
    "id": "dBu_CM_1Q-T8"
   },
   "source": [
    "# 2. Random Forest\n",
    "\n"
   ]
  },
  {
   "cell_type": "markdown",
   "id": "gmSjoWVUZFsv",
   "metadata": {
    "id": "gmSjoWVUZFsv"
   },
   "source": [
    "#### 2-1. 기본 모델"
   ]
  },
  {
   "cell_type": "code",
   "execution_count": 14,
   "id": "JWPyPpLU6Gm-",
   "metadata": {
    "executionInfo": {
     "elapsed": 1,
     "status": "ok",
     "timestamp": 1694841621091,
     "user": {
      "displayName": "다경",
      "userId": "04164406032455601319"
     },
     "user_tz": -540
    },
    "id": "JWPyPpLU6Gm-"
   },
   "outputs": [],
   "source": [
    "rf = RandomForestClassifier(random_state = 0)"
   ]
  },
  {
   "cell_type": "code",
   "execution_count": 15,
   "id": "Xyjr_YZbALjw",
   "metadata": {
    "colab": {
     "base_uri": "https://localhost:8080/",
     "height": 75
    },
    "executionInfo": {
     "elapsed": 277753,
     "status": "ok",
     "timestamp": 1694841899722,
     "user": {
      "displayName": "다경",
      "userId": "04164406032455601319"
     },
     "user_tz": -540
    },
    "id": "Xyjr_YZbALjw",
    "outputId": "38ee19ca-8025-49a0-d100-1399bebf090c"
   },
   "outputs": [
    {
     "data": {
      "text/html": [
       "<style>#sk-container-id-1 {color: black;background-color: white;}#sk-container-id-1 pre{padding: 0;}#sk-container-id-1 div.sk-toggleable {background-color: white;}#sk-container-id-1 label.sk-toggleable__label {cursor: pointer;display: block;width: 100%;margin-bottom: 0;padding: 0.3em;box-sizing: border-box;text-align: center;}#sk-container-id-1 label.sk-toggleable__label-arrow:before {content: \"▸\";float: left;margin-right: 0.25em;color: #696969;}#sk-container-id-1 label.sk-toggleable__label-arrow:hover:before {color: black;}#sk-container-id-1 div.sk-estimator:hover label.sk-toggleable__label-arrow:before {color: black;}#sk-container-id-1 div.sk-toggleable__content {max-height: 0;max-width: 0;overflow: hidden;text-align: left;background-color: #f0f8ff;}#sk-container-id-1 div.sk-toggleable__content pre {margin: 0.2em;color: black;border-radius: 0.25em;background-color: #f0f8ff;}#sk-container-id-1 input.sk-toggleable__control:checked~div.sk-toggleable__content {max-height: 200px;max-width: 100%;overflow: auto;}#sk-container-id-1 input.sk-toggleable__control:checked~label.sk-toggleable__label-arrow:before {content: \"▾\";}#sk-container-id-1 div.sk-estimator input.sk-toggleable__control:checked~label.sk-toggleable__label {background-color: #d4ebff;}#sk-container-id-1 div.sk-label input.sk-toggleable__control:checked~label.sk-toggleable__label {background-color: #d4ebff;}#sk-container-id-1 input.sk-hidden--visually {border: 0;clip: rect(1px 1px 1px 1px);clip: rect(1px, 1px, 1px, 1px);height: 1px;margin: -1px;overflow: hidden;padding: 0;position: absolute;width: 1px;}#sk-container-id-1 div.sk-estimator {font-family: monospace;background-color: #f0f8ff;border: 1px dotted black;border-radius: 0.25em;box-sizing: border-box;margin-bottom: 0.5em;}#sk-container-id-1 div.sk-estimator:hover {background-color: #d4ebff;}#sk-container-id-1 div.sk-parallel-item::after {content: \"\";width: 100%;border-bottom: 1px solid gray;flex-grow: 1;}#sk-container-id-1 div.sk-label:hover label.sk-toggleable__label {background-color: #d4ebff;}#sk-container-id-1 div.sk-serial::before {content: \"\";position: absolute;border-left: 1px solid gray;box-sizing: border-box;top: 0;bottom: 0;left: 50%;z-index: 0;}#sk-container-id-1 div.sk-serial {display: flex;flex-direction: column;align-items: center;background-color: white;padding-right: 0.2em;padding-left: 0.2em;position: relative;}#sk-container-id-1 div.sk-item {position: relative;z-index: 1;}#sk-container-id-1 div.sk-parallel {display: flex;align-items: stretch;justify-content: center;background-color: white;position: relative;}#sk-container-id-1 div.sk-item::before, #sk-container-id-1 div.sk-parallel-item::before {content: \"\";position: absolute;border-left: 1px solid gray;box-sizing: border-box;top: 0;bottom: 0;left: 50%;z-index: -1;}#sk-container-id-1 div.sk-parallel-item {display: flex;flex-direction: column;z-index: 1;position: relative;background-color: white;}#sk-container-id-1 div.sk-parallel-item:first-child::after {align-self: flex-end;width: 50%;}#sk-container-id-1 div.sk-parallel-item:last-child::after {align-self: flex-start;width: 50%;}#sk-container-id-1 div.sk-parallel-item:only-child::after {width: 0;}#sk-container-id-1 div.sk-dashed-wrapped {border: 1px dashed gray;margin: 0 0.4em 0.5em 0.4em;box-sizing: border-box;padding-bottom: 0.4em;background-color: white;}#sk-container-id-1 div.sk-label label {font-family: monospace;font-weight: bold;display: inline-block;line-height: 1.2em;}#sk-container-id-1 div.sk-label-container {text-align: center;}#sk-container-id-1 div.sk-container {/* jupyter's `normalize.less` sets `[hidden] { display: none; }` but bootstrap.min.css set `[hidden] { display: none !important; }` so we also need the `!important` here to be able to override the default hidden behavior on the sphinx rendered scikit-learn.org. See: https://github.com/scikit-learn/scikit-learn/issues/21755 */display: inline-block !important;position: relative;}#sk-container-id-1 div.sk-text-repr-fallback {display: none;}</style><div id=\"sk-container-id-1\" class=\"sk-top-container\"><div class=\"sk-text-repr-fallback\"><pre>RandomForestClassifier(random_state=0)</pre><b>In a Jupyter environment, please rerun this cell to show the HTML representation or trust the notebook. <br />On GitHub, the HTML representation is unable to render, please try loading this page with nbviewer.org.</b></div><div class=\"sk-container\" hidden><div class=\"sk-item\"><div class=\"sk-estimator sk-toggleable\"><input class=\"sk-toggleable__control sk-hidden--visually\" id=\"sk-estimator-id-1\" type=\"checkbox\" checked><label for=\"sk-estimator-id-1\" class=\"sk-toggleable__label sk-toggleable__label-arrow\">RandomForestClassifier</label><div class=\"sk-toggleable__content\"><pre>RandomForestClassifier(random_state=0)</pre></div></div></div></div></div>"
      ],
      "text/plain": [
       "RandomForestClassifier(random_state=0)"
      ]
     },
     "execution_count": 15,
     "metadata": {},
     "output_type": "execute_result"
    }
   ],
   "source": [
    "rf.fit(X_train, y_train)"
   ]
  },
  {
   "cell_type": "markdown",
   "id": "656ba66e",
   "metadata": {},
   "source": [
    "#### 2-2. 업종별 모델"
   ]
  },
  {
   "cell_type": "code",
   "execution_count": 35,
   "id": "9600bd6d",
   "metadata": {},
   "outputs": [],
   "source": [
    "rf1 = RandomForestClassifier(random_state = 0)\n",
    "rf1.fit(X_train1, y_train1)\n",
    "pred1 = rf1.predict(X_valid1)"
   ]
  },
  {
   "cell_type": "code",
   "execution_count": 36,
   "id": "eb13c352",
   "metadata": {},
   "outputs": [],
   "source": [
    "rf2 = RandomForestClassifier(random_state = 0)\n",
    "rf2.fit(X_train2, y_train2)\n",
    "pred2 = rf2.predict(X_valid2)"
   ]
  },
  {
   "cell_type": "code",
   "execution_count": 37,
   "id": "989b61cc",
   "metadata": {},
   "outputs": [],
   "source": [
    "rf3 = RandomForestClassifier(random_state = 0)\n",
    "rf3.fit(X_train3, y_train3)\n",
    "pred3 = rf3.predict(X_valid3)"
   ]
  },
  {
   "cell_type": "code",
   "execution_count": 38,
   "id": "3223df86",
   "metadata": {},
   "outputs": [],
   "source": [
    "rf4 = RandomForestClassifier(random_state = 0)\n",
    "rf4.fit(X_train4, y_train4)\n",
    "pred4 = rf4.predict(X_valid4)"
   ]
  },
  {
   "cell_type": "code",
   "execution_count": 39,
   "id": "24e17a59",
   "metadata": {},
   "outputs": [],
   "source": [
    "rf5 = RandomForestClassifier(random_state = 0)\n",
    "rf5.fit(X_train5, y_train5)\n",
    "pred5 = rf5.predict(X_valid5)"
   ]
  },
  {
   "cell_type": "code",
   "execution_count": 40,
   "id": "0f270b68",
   "metadata": {},
   "outputs": [],
   "source": [
    "rf6 = RandomForestClassifier(random_state = 0)\n",
    "rf6.fit(X_train6, y_train6)\n",
    "pred6 = rf6.predict(X_valid6)"
   ]
  },
  {
   "cell_type": "code",
   "execution_count": 41,
   "id": "6c073078",
   "metadata": {},
   "outputs": [],
   "source": [
    "rf7 = RandomForestClassifier(random_state = 0)\n",
    "rf7.fit(X_train7, y_train7)\n",
    "pred7 = rf7.predict(X_valid7)"
   ]
  },
  {
   "cell_type": "code",
   "execution_count": 42,
   "id": "843594b5",
   "metadata": {},
   "outputs": [],
   "source": [
    "rf8 = RandomForestClassifier(random_state = 0)\n",
    "rf8.fit(X_train8, y_train8)\n",
    "pred8 = rf8.predict(X_valid8)"
   ]
  },
  {
   "cell_type": "code",
   "execution_count": 43,
   "id": "8338b331",
   "metadata": {},
   "outputs": [],
   "source": [
    "rf9 = RandomForestClassifier(random_state = 0)\n",
    "rf9.fit(X_train9, y_train9)\n",
    "pred9 = rf9.predict(X_valid9)"
   ]
  },
  {
   "cell_type": "code",
   "execution_count": 44,
   "id": "1db75de2",
   "metadata": {},
   "outputs": [],
   "source": [
    "rf10 = RandomForestClassifier(random_state = 0)\n",
    "rf10.fit(X_train10, y_train10)\n",
    "pred10 = rf10.predict(X_valid10)"
   ]
  },
  {
   "cell_type": "code",
   "execution_count": 45,
   "id": "ccb39111",
   "metadata": {},
   "outputs": [],
   "source": [
    "rf11 = RandomForestClassifier(random_state = 0)\n",
    "rf11.fit(X_train11, y_train11)\n",
    "pred11 = rf11.predict(X_valid11)"
   ]
  },
  {
   "cell_type": "code",
   "execution_count": 46,
   "id": "05f7dc85",
   "metadata": {},
   "outputs": [],
   "source": [
    "rf12 = RandomForestClassifier(random_state = 0)\n",
    "rf12.fit(X_train12, y_train12)\n",
    "pred12 = rf12.predict(X_valid12)"
   ]
  },
  {
   "cell_type": "code",
   "execution_count": 47,
   "id": "a4ce3e00",
   "metadata": {},
   "outputs": [],
   "source": [
    "rf13 = RandomForestClassifier(random_state = 0)\n",
    "rf13.fit(X_train13, y_train13)\n",
    "pred13 = rf13.predict(X_valid13)"
   ]
  },
  {
   "cell_type": "code",
   "execution_count": 48,
   "id": "cddbfb2c",
   "metadata": {},
   "outputs": [],
   "source": [
    "rf14 = RandomForestClassifier(random_state = 0)\n",
    "rf14.fit(X_train14, y_train14)\n",
    "pred14 = rf14.predict(X_valid14)"
   ]
  },
  {
   "cell_type": "code",
   "execution_count": 49,
   "id": "6948dce1",
   "metadata": {},
   "outputs": [],
   "source": [
    "rf15 = RandomForestClassifier(random_state = 0)\n",
    "rf15.fit(X_train15, y_train15)\n",
    "pred15 = rf15.predict(X_valid15)"
   ]
  },
  {
   "cell_type": "markdown",
   "id": "mLxZ29TjQp0j",
   "metadata": {
    "id": "mLxZ29TjQp0j"
   },
   "source": [
    "# 3. 성능 평가 (MSE)"
   ]
  },
  {
   "cell_type": "markdown",
   "id": "1wmGqTZBeIZn",
   "metadata": {
    "id": "1wmGqTZBeIZn"
   },
   "source": [
    "#### 3-1. 기본 모델"
   ]
  },
  {
   "cell_type": "code",
   "execution_count": 17,
   "id": "Cm75W_ULabmP",
   "metadata": {
    "colab": {
     "base_uri": "https://localhost:8080/"
    },
    "executionInfo": {
     "elapsed": 3,
     "status": "ok",
     "timestamp": 1694841907475,
     "user": {
      "displayName": "다경",
      "userId": "04164406032455601319"
     },
     "user_tz": -540
    },
    "id": "Cm75W_ULabmP",
    "outputId": "8645d0a8-2ed4-4ebf-f348-508d50fed2af"
   },
   "outputs": [
    {
     "name": "stdout",
     "output_type": "stream",
     "text": [
      "랜덤 포레스트 MSE : 0.6750\n"
     ]
    }
   ],
   "source": [
    "pred = rf.predict(X_valid)\n",
    "MSE = sum((y_valid - pred)**2) / len(y_valid)\n",
    "print('랜덤 포레스트 MSE : {:.4f}'.format(MSE))"
   ]
  },
  {
   "cell_type": "markdown",
   "id": "b5eaf9c1",
   "metadata": {},
   "source": [
    "#### 3-2. 업종별 모델"
   ]
  },
  {
   "cell_type": "code",
   "execution_count": 51,
   "id": "5778855d",
   "metadata": {},
   "outputs": [
    {
     "name": "stdout",
     "output_type": "stream",
     "text": [
      "A01 MSE : 0.8276\n",
      "A02 MSE : 0.4672\n",
      "A03 MSE : 0.6526\n",
      "A04 MSE : 0.4729\n",
      "A05 MSE : 0.4198\n",
      "A06 MSE : 0.4724\n",
      "A07 MSE : 0.5347\n",
      "A08 MSE : 0.4452\n",
      "A09 MSE : 0.5984\n",
      "A10 MSE : 0.5481\n",
      "A11 MSE : 0.4244\n",
      "A12 MSE : 1.3496\n",
      "A13 MSE : 0.5338\n",
      "A14 MSE : 0.6550\n",
      "A15 MSE : 0.3496\n"
     ]
    }
   ],
   "source": [
    "MSE = sum((y_valid1 - pred1)**2) / len(y_valid1)\n",
    "print('A01 MSE : {:.4f}'.format(MSE))\n",
    "\n",
    "MSE = sum((y_valid2 - pred2)**2) / len(y_valid2)\n",
    "print('A02 MSE : {:.4f}'.format(MSE))\n",
    "\n",
    "MSE = sum((y_valid3 - pred3)**2) / len(y_valid3)\n",
    "print('A03 MSE : {:.4f}'.format(MSE))\n",
    "\n",
    "MSE = sum((y_valid4 - pred4)**2) / len(y_valid4)\n",
    "print('A04 MSE : {:.4f}'.format(MSE))\n",
    "\n",
    "MSE = sum((y_valid5 - pred5)**2) / len(y_valid5)\n",
    "print('A05 MSE : {:.4f}'.format(MSE))\n",
    "\n",
    "MSE = sum((y_valid6 - pred6)**2) / len(y_valid6)\n",
    "print('A06 MSE : {:.4f}'.format(MSE))\n",
    "\n",
    "MSE = sum((y_valid7 - pred7)**2) / len(y_valid7)\n",
    "print('A07 MSE : {:.4f}'.format(MSE))\n",
    "\n",
    "MSE = sum((y_valid8 - pred8)**2) / len(y_valid8)\n",
    "print('A08 MSE : {:.4f}'.format(MSE))\n",
    "\n",
    "MSE = sum((y_valid9 - pred9)**2) / len(y_valid9)\n",
    "print('A09 MSE : {:.4f}'.format(MSE))\n",
    "\n",
    "MSE = sum((y_valid10 - pred10)**2) / len(y_valid10)\n",
    "print('A10 MSE : {:.4f}'.format(MSE))\n",
    "\n",
    "MSE = sum((y_valid11 - pred11)**2) / len(y_valid11)\n",
    "print('A11 MSE : {:.4f}'.format(MSE))\n",
    "\n",
    "MSE = sum((y_valid12 - pred12)**2) / len(y_valid12)\n",
    "print('A12 MSE : {:.4f}'.format(MSE))\n",
    "\n",
    "MSE = sum((y_valid13 - pred13)**2) / len(y_valid13)\n",
    "print('A13 MSE : {:.4f}'.format(MSE))\n",
    "\n",
    "MSE = sum((y_valid14 - pred14)**2) / len(y_valid14)\n",
    "print('A14 MSE : {:.4f}'.format(MSE))\n",
    "\n",
    "MSE = sum((y_valid15 - pred15)**2) / len(y_valid15)\n",
    "print('A15 MSE : {:.4f}'.format(MSE))"
   ]
  },
  {
   "cell_type": "code",
   "execution_count": 56,
   "id": "5851a9db",
   "metadata": {},
   "outputs": [],
   "source": [
    "preds = np.concatenate((pred1, pred2, pred3, pred4, pred5, pred6, pred7, pred8, pred9, pred10, pred11, pred12, pred13, pred14, pred15), axis = 0)\n",
    "y_valids = np.concatenate((y_valid1, y_valid2, y_valid3, y_valid4, y_valid5, y_valid6, y_valid7, y_valid8, y_valid9, y_valid10, y_valid11, y_valid12, y_valid13, y_valid14, y_valid15), axis = 0)"
   ]
  },
  {
   "cell_type": "code",
   "execution_count": 59,
   "id": "1a346590",
   "metadata": {},
   "outputs": [
    {
     "name": "stdout",
     "output_type": "stream",
     "text": [
      "업종별 모델 MSE : 0.6762\n"
     ]
    }
   ],
   "source": [
    "MSE = sum((y_valids - preds)**2) / len(y_valids)\n",
    "print('업종별 모델 MSE : {:.4f}'.format(MSE))"
   ]
  },
  {
   "cell_type": "code",
   "execution_count": 34,
   "id": "2b429b38",
   "metadata": {},
   "outputs": [
    {
     "name": "stdout",
     "output_type": "stream",
     "text": [
      "(333824, 23)\n",
      "(66633, 23)\n",
      "(22243, 23)\n",
      "(4931, 23)\n"
     ]
    }
   ],
   "source": [
    "print(X_train1.shape)\n",
    "print(X_valid1.shape)\n",
    "print(X_train12.shape)\n",
    "print(X_valid12.shape)"
   ]
  }
 ],
 "metadata": {
  "accelerator": "GPU",
  "colab": {
   "gpuType": "T4",
   "provenance": []
  },
  "kernelspec": {
   "display_name": "'bigcon'",
   "language": "python",
   "name": "bigcon"
  },
  "language_info": {
   "codemirror_mode": {
    "name": "ipython",
    "version": 3
   },
   "file_extension": ".py",
   "mimetype": "text/x-python",
   "name": "python",
   "nbconvert_exporter": "python",
   "pygments_lexer": "ipython3",
   "version": "3.8.18"
  }
 },
 "nbformat": 4,
 "nbformat_minor": 5
}
